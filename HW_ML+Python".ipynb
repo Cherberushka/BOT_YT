{
  "cells": [
    {
      "cell_type": "markdown",
      "metadata": {
        "id": "view-in-github",
        "colab_type": "text"
      },
      "source": [
        "<a href=\"https://colab.research.google.com/github/Cherberushka/BOT_YT/blob/master/HW_ML%2BPython%22.ipynb\" target=\"_parent\"><img src=\"https://colab.research.google.com/assets/colab-badge.svg\" alt=\"Open In Colab\"/></a>"
      ]
    },
    {
      "cell_type": "markdown",
      "metadata": {
        "id": "oE83eZ7L7-5q"
      },
      "source": [
        "# План:\n",
        "1. Pytho\n",
        "2. Numpy\n",
        "3. Pandas\n",
        "4. Regexp + regexp with dataframes\n",
        "5. Texts\n",
        "6. Matplotlib, Seaborn\n",
        "7. Classification, clustering, binary, multiclass, multilabel\n",
        "8. Metrics\n",
        "9. Feature extraction\n",
        "10. Pyspark/sql\n",
        "Смотри, Максим, это не локальная копия"
      ]
    },
    {
      "cell_type": "markdown",
      "metadata": {
        "id": "f5XKaq5x7-5u"
      },
      "source": [
        "<img src=\"gifs/start.gif\" width=\"400\">"
      ]
    },
    {
      "cell_type": "markdown",
      "metadata": {
        "id": "5W1f3O2r7-5u"
      },
      "source": [
        "# Python\n",
        "\n",
        "* Целая куча упражнений на типы данных\\операторы и функции\n",
        "\n",
        "https://www.w3resource.com/python-exercises/"
      ]
    },
    {
      "cell_type": "markdown",
      "metadata": {
        "id": "ZHddAJ4I7-5v"
      },
      "source": [
        "Типы данных:\n",
        "    * Числа (7382, 3.14, 3+4j, Decimal, Fraction)\n",
        "    * Строки ('net', \"your's\", u'радость')\n",
        "    * Списки ([1, [2, 'three'], 4])\n",
        "    * Словари ({'Alex': 2, 'Brian': 4})\n",
        "    * Кортежи ('Leo', 21.7, 'single')\n",
        "    * Множества (set(1,2,3), {'a', 'b', 'c'})\n",
        "    * Файлы (open('myfile', 'r'))"
      ]
    },
    {
      "cell_type": "markdown",
      "metadata": {
        "id": "UKn_wHVK7-5v"
      },
      "source": [
        "1. Склеить 3 подстроки \"ada\", \"lovelace\", \"was considered the world's first computer programmer.\". Первые две строки сделать с большой буквы.  (★☆☆)\n"
      ]
    },
    {
      "cell_type": "code",
      "execution_count": null,
      "metadata": {
        "id": "jRBB73ve7-5w",
        "colab": {
          "base_uri": "https://localhost:8080/"
        },
        "outputId": "bd129b3c-226f-4db8-fe20-d2f90747080b"
      },
      "outputs": [
        {
          "output_type": "stream",
          "name": "stdout",
          "text": [
            "AdaLovelacewas considered the world's first computer programmer.\n"
          ]
        }
      ],
      "source": [
        "a = \"ada\"\n",
        "b = \"lovelace\"\n",
        "c = \"was considered the world's first computer programmer.\"\n",
        "print(a.capitalize() + b.capitalize() + c)"
      ]
    },
    {
      "cell_type": "markdown",
      "metadata": {
        "id": "SLC83wKC7-5x"
      },
      "source": [
        "2. Удаление лишних пробельных символов справа, слева, с обоих сторон  (☆☆☆)"
      ]
    },
    {
      "cell_type": "code",
      "execution_count": null,
      "metadata": {
        "id": "TzYAeuH87-5y",
        "colab": {
          "base_uri": "https://localhost:8080/"
        },
        "outputId": "038c0e2d-905c-41d3-8e27-706c8679f0ef"
      },
      "outputs": [
        {
          "output_type": "stream",
          "name": "stdout",
          "text": [
            "ada\n"
          ]
        }
      ],
      "source": [
        "a = \"      ada     \"\n",
        "print(a.strip())"
      ]
    },
    {
      "cell_type": "markdown",
      "metadata": {
        "id": "CDNdDtgf7-5y"
      },
      "source": [
        "3. Найти первое вхождение в строку подстроки (☆☆☆)"
      ]
    },
    {
      "cell_type": "code",
      "execution_count": null,
      "metadata": {
        "id": "UUcgKgMU7-5z",
        "colab": {
          "base_uri": "https://localhost:8080/"
        },
        "outputId": "d733f803-5539-44c8-d119-166f4ae73989"
      },
      "outputs": [
        {
          "output_type": "stream",
          "name": "stdout",
          "text": [
            "7\n"
          ]
        }
      ],
      "source": [
        "s1=\"But if you stick with me, I’m gonna accomplish great things, Morty, and you’re gonna be part of ’em.\"\n",
        "s2=\"you\"\n",
        "\n",
        "##your code\n",
        "print(s1.find(s2))"
      ]
    },
    {
      "cell_type": "markdown",
      "metadata": {
        "id": "ucfkW-My7-53"
      },
      "source": [
        "* isdigit - состоит ли строка из цифр;\n",
        "* isalpha - состоит ли строка из букв;\n",
        "* isalnum - состоит ли строка из цифр или букв;\n",
        "* islower - состоит ли строка из символов в нижнем регистре;\n",
        "* isupper - состоит ли строка из символов в верхнем регистре;\n",
        "* istitle - начинаются ли слова в строке с заглавной буквы."
      ]
    },
    {
      "cell_type": "markdown",
      "metadata": {
        "id": "glYpHxe17-53"
      },
      "source": [
        "4. Разбить строку по разделителю (☆☆☆)"
      ]
    },
    {
      "cell_type": "code",
      "execution_count": null,
      "metadata": {
        "id": "eQdWkDj87-54",
        "colab": {
          "base_uri": "https://localhost:8080/"
        },
        "outputId": "97d0d14f-cf2d-42a5-ac1b-0d4d42fb072f"
      },
      "outputs": [
        {
          "output_type": "stream",
          "name": "stdout",
          "text": [
            "['Holy', 'cow,', 'Rick!', 'I', 'didn’t', 'know', 'hanging', 'out', 'with', 'you', 'was', 'making', 'me', 'smarter!']\n"
          ]
        }
      ],
      "source": [
        "s1=\"Holy#cow,#Rick!#I#didn’t#know#hanging#out#with#you#was#making#me#smarter!\"\n",
        "##your code\n",
        "list = s1.split('#')\n",
        "print(list)"
      ]
    },
    {
      "cell_type": "markdown",
      "metadata": {
        "id": "ZYvWj__67-54"
      },
      "source": [
        "5. Полученный массив строк склеить через пробел (★☆☆)"
      ]
    },
    {
      "cell_type": "code",
      "execution_count": null,
      "metadata": {
        "id": "FYahPQbj7-54",
        "colab": {
          "base_uri": "https://localhost:8080/"
        },
        "outputId": "3cab9acc-10fd-4878-c914-872ef8bb550b"
      },
      "outputs": [
        {
          "output_type": "stream",
          "name": "stdout",
          "text": [
            "Holy cow, Rick! I didn’t know hanging out with you was making me smarter!\n"
          ]
        }
      ],
      "source": [
        "s1 = ' '.join(list)\n",
        "print(s1)"
      ]
    },
    {
      "cell_type": "markdown",
      "metadata": {
        "id": "gBWcMRgA7-54"
      },
      "source": [
        "6. Вывести данные из словаря в три строки в виде \"NAME (age AGE) is a JOB\" (★☆☆)\n",
        "\n",
        "(hint: .format())"
      ]
    },
    {
      "cell_type": "code",
      "execution_count": null,
      "metadata": {
        "id": "DYRA4y_b7-55",
        "colab": {
          "base_uri": "https://localhost:8080/"
        },
        "outputId": "8fd0b2dc-b7d0-47de-8dae-549660b0a9b0"
      },
      "outputs": [
        {
          "output_type": "stream",
          "name": "stdout",
          "text": [
            "Ann (age 29) is a Artist\n",
            "Leo (age 54) is a Programmer\n",
            "Tiffany (age 43) is a Shop Assistant\n",
            "\n",
            "\n",
            "Ann (age 29) is a Artist\n",
            "Leo (age 54) is a Programmer\n",
            "Tiffany (age 43) is a Shop Assistant\n"
          ]
        }
      ],
      "source": [
        "personal_data = {1: (\"Ann\", 29, \"Artist\"), \n",
        "               2: (\"Leo\", 54, \"Programmer\"), \n",
        "               3: (\"Tiffany\", 43, \"Shop Assistant\")}\n",
        "##your code\n",
        "for i in range(1, len(personal_data) + 1):\n",
        "  print(f'{personal_data[i][0]} (age {personal_data[i][1]}) is a {personal_data[i][2]}')\n",
        "print('\\n')\n",
        "for i in range(1, len(personal_data) + 1):\n",
        "  print('{} (age {}) is a {}'.format(personal_data[i][0], personal_data[i][1], personal_data[i][2]))"
      ]
    },
    {
      "cell_type": "markdown",
      "metadata": {
        "id": "i9B4DWOZ7-55"
      },
      "source": [
        "7. Требуется определить, является ли данный год високосным. (год является високосным, если его номер кратен 4, но не кратен 100, а также если он кратен 400.)  (★★☆)\n",
        "\n",
        "Входные данные: Вводится единственное число - номер года (целое, положительное, не превышает 30000).\n",
        "\n",
        "Выходные данные: Требуется вывести слово YES, если год является високосным и NO - в противном случае."
      ]
    },
    {
      "cell_type": "code",
      "execution_count": null,
      "metadata": {
        "id": "tnB75I627-55"
      },
      "outputs": [],
      "source": [
        "year = int(input()) \n",
        "if (year % 4 == 0 and year % 100 != 0) or year % 400 == 0:\n",
        "  print(\"YES\")\n",
        "else:\n",
        "  print(\"NO\")"
      ]
    },
    {
      "cell_type": "markdown",
      "metadata": {
        "id": "K_PZ2DEf7-55"
      },
      "source": [
        "8. Закодируйте каждый элемент списка слов числом, результат сопоставления (слово-число) поместите в словарь.  (★☆☆)"
      ]
    },
    {
      "cell_type": "code",
      "execution_count": null,
      "metadata": {
        "id": "SPs9JyRF7-56"
      },
      "outputs": [],
      "source": [
        "words = ['Not', 'my', 'cup', 'of', 'tea']\n",
        "##your code\n",
        "keys = ['0', '1', '2', '3', '4']\n",
        "dict_w = dict(zip(keys, words))\n",
        "print(dict_w)"
      ]
    },
    {
      "cell_type": "markdown",
      "metadata": {
        "id": "VpAE38WK7-56"
      },
      "source": [
        "9. Удалить второй элемент из списка по индексу\\по значению  (★☆☆)"
      ]
    },
    {
      "cell_type": "code",
      "execution_count": null,
      "metadata": {
        "id": "1R9l4Ftu7-56"
      },
      "outputs": [],
      "source": [
        "dogs = ['border collie', 'australian cattle dog', 'labrador retriever']\n",
        "\n",
        "##your code\n",
        "del dogs[1]\n",
        "print(dogs)\n",
        "dogs.remove('labrador retriever')\n",
        "print(dogs)"
      ]
    },
    {
      "cell_type": "markdown",
      "metadata": {
        "id": "OSHCsLjY7-56"
      },
      "source": [
        "10. Вывести срез списка с 3 по 5 элемент включительно и все слова перевести в верхний регистр (★☆☆)"
      ]
    },
    {
      "cell_type": "code",
      "execution_count": null,
      "metadata": {
        "id": "JGma4FNP7-56"
      },
      "outputs": [],
      "source": [
        "dogs = ['border', 'collie', 'australian', 'cattle', 'dog', 'labrador', 'retriever']\n",
        "##your code\n",
        "print(dogs[3:6:])\n",
        "for i in dogs:\n",
        "  dogs[dogs.index(i)] = i.upper()\n",
        "print(dogs)\n",
        "print(dogs[3:6:])"
      ]
    },
    {
      "cell_type": "markdown",
      "metadata": {
        "id": "xvQNspgc7-57"
      },
      "source": [
        "11. Словарь словарей. Вывести из словаря для каждого питомца его имя, породу, имя владельца, и наличие прививки. Строку вывода формировать через .format() (★☆☆)"
      ]
    },
    {
      "cell_type": "code",
      "execution_count": null,
      "metadata": {
        "id": "9T8ZTmf87-57"
      },
      "outputs": [],
      "source": [
        "pets = {'willie': {'kind': 'dog', 'owner': 'eric', 'vaccinated': True},\n",
        "        'walter': {'kind': 'cockroach', 'owner': 'eric', 'vaccinated': False},\n",
        "        'peso': {'kind': 'dog', 'owner': 'chloe', 'vaccinated': True},\n",
        "        }\n",
        "        \n",
        "##your code\n",
        "for i in pets:\n",
        "  print('Имя питомца {}; Порода: {}; Владелец: {}; Привит: {}'.format(i, pets[i]['kind'], pets[i]['owner'], pets[i]['vaccinated']))\n"
      ]
    },
    {
      "cell_type": "markdown",
      "metadata": {
        "id": "Bah9sBea7-57"
      },
      "source": [
        "12. Проверить является ли множество подмножеством другого множества  (★☆☆)"
      ]
    },
    {
      "cell_type": "code",
      "execution_count": null,
      "metadata": {
        "id": "LvJCOUVy7-57"
      },
      "outputs": [],
      "source": [
        "a=set([2, 5, 6])\n",
        "b=set([2, 4, 8, 3, 5, 6])\n",
        "\n",
        "##your code\n",
        "print(a)"
      ]
    },
    {
      "cell_type": "markdown",
      "metadata": {
        "id": "sfVwYMPL7-57"
      },
      "source": [
        "13. Объединить несколько множеств (★☆☆)"
      ]
    },
    {
      "cell_type": "code",
      "execution_count": null,
      "metadata": {
        "id": "hrKKF3kp7-58"
      },
      "outputs": [],
      "source": [
        "set_a=set([10, 35, 6, 5])\n",
        "set_b=set([2, 4, 8, 3, 5, 6, 35])\n",
        "set_c=set([4, 5, 35])\n",
        "\n",
        "##your code\n",
        "d = set_a.union(set_b).union(set_c)\n",
        "print(d)"
      ]
    },
    {
      "cell_type": "markdown",
      "metadata": {
        "id": "bI5lcYGM7-58"
      },
      "source": [
        "14. Посчитать пересечение множества b с остальными из предыдущего задания  (★★☆)\n",
        "\n",
        "(hint: set.intersection(other, ...) (или set & other &) )"
      ]
    },
    {
      "cell_type": "code",
      "execution_count": null,
      "metadata": {
        "id": "ZpsU-iaT7-58"
      },
      "outputs": [],
      "source": [
        "print(set_b.intersection(set_a))\n",
        "print(set_b.intersection(set_c))\n",
        "print(set_b.intersection(set_a, set_c))"
      ]
    },
    {
      "cell_type": "markdown",
      "metadata": {
        "id": "uVuXAMxR7-58"
      },
      "source": [
        "15. Вывести множество из элементов, встречающихся в одном множестве, но не встречающиеся в обоих. (★★☆)\n",
        "\n",
        "(hint: .symmetric_difference())"
      ]
    },
    {
      "cell_type": "code",
      "execution_count": null,
      "metadata": {
        "id": "EmdVX2Vn7-58"
      },
      "outputs": [],
      "source": [
        "a=set([1, 2, 3, 4, 5])\n",
        "b=set([3, 4, 5, 6, 7])\n",
        "\n",
        "##your code\n",
        "print(a.symmetric_difference(b))"
      ]
    },
    {
      "cell_type": "markdown",
      "metadata": {
        "id": "IzGjqSPG7-58"
      },
      "source": [
        "16. Предположим, есть файл с данными клиентов. В качестве простого примера воьзьмем txt-файл(нужно создать файл с предложенным/другим содержанием самостоятельно) следующего содержания:\n",
        "\n",
        "    lastname,age,debt,occupation\n",
        "    \n",
        "    Adrianov,25,30000,artist\n",
        "    \n",
        "    Нужно считать файл data/credit_sample.txt.\n",
        "    Сделать словарь вида:\n",
        "        {lastname: (age,debt,occupation)}\n",
        "    \n",
        "    Посчитать сколько уникальных профессий получилось в словаре.\n",
        "    \n",
        "    Результат записать в json (★★★)"
      ]
    },
    {
      "cell_type": "code",
      "execution_count": null,
      "metadata": {
        "id": "-Tmno7Y27-59"
      },
      "outputs": [],
      "source": []
    },
    {
      "cell_type": "markdown",
      "metadata": {
        "id": "L-rqo8bV7-59"
      },
      "source": [
        "### os, sys, datetime"
      ]
    },
    {
      "cell_type": "code",
      "source": [
        "import os\n",
        "import sys\n",
        "import datetime"
      ],
      "metadata": {
        "id": "68hd3FYOeJv2"
      },
      "execution_count": null,
      "outputs": []
    },
    {
      "cell_type": "markdown",
      "metadata": {
        "id": "d_Xl0_Sn7-5-"
      },
      "source": [
        "17. Получить список файлов в папке gifs/ и оставить только файлы с расширением .gif (★★☆)"
      ]
    },
    {
      "cell_type": "code",
      "execution_count": null,
      "metadata": {
        "id": "BbX1vHg27-5-",
        "colab": {
          "base_uri": "https://localhost:8080/"
        },
        "outputId": "7171d8fa-6f25-47c8-bd3e-47b29ed98c5d"
      },
      "outputs": [
        {
          "output_type": "stream",
          "name": "stdout",
          "text": [
            "Текущая деректория: /content\n"
          ]
        }
      ],
      "source": []
    },
    {
      "cell_type": "markdown",
      "metadata": {
        "id": "ri_VgtjM7-5-"
      },
      "source": [
        "18. Создать папку с названием temp и удалить её (★☆☆)"
      ]
    },
    {
      "cell_type": "code",
      "source": [
        "os.chdir('/content')  # сменить директорию\n",
        "print(\"Текущая деректория:\", os.getcwd())\n",
        "\n",
        "os.mkdir(\"temp\")  # создание директории(папки)\n",
        "\n",
        "print(\"Все папки и файлы после создания temp:\", os.listdir())  # вывести список файлов и папок в текущей директории\n",
        "\n",
        "os.rmdir(\"temp\")  # удаление директории(папки)\n",
        "print(\"Все папки и файлы после удаления temp:\", os.listdir())  # вывести список файлов и папок в текущей директории"
      ],
      "metadata": {
        "colab": {
          "base_uri": "https://localhost:8080/"
        },
        "id": "LSa6ZYMsgVCo",
        "outputId": "05856ddc-71e4-4ac5-a577-1cecf8bdcf2d"
      },
      "execution_count": null,
      "outputs": [
        {
          "output_type": "stream",
          "name": "stdout",
          "text": [
            "Текущая деректория: /content\n",
            "Все папки и файлы после создания temp: ['.config', 'temp', 'sample_data']\n",
            "Все папки и файлы после удаления temp: ['.config', 'sample_data']\n"
          ]
        }
      ]
    },
    {
      "cell_type": "markdown",
      "metadata": {
        "id": "6N333x6h7-5-"
      },
      "source": [
        "19. Вывести переменные среды (★☆☆)\n",
        "\n",
        "(hint: environ)"
      ]
    },
    {
      "cell_type": "code",
      "execution_count": null,
      "metadata": {
        "id": "8zt8jasf7-5-",
        "colab": {
          "base_uri": "https://localhost:8080/"
        },
        "outputId": "6963e58b-bd05-4fb3-c312-bde18d0cd1d0"
      },
      "outputs": [
        {
          "output_type": "stream",
          "name": "stdout",
          "text": [
            "NV_LIBCUBLAS_DEV_VERSION => 11.4.1.1043-1\n",
            "NV_CUDA_COMPAT_PACKAGE => cuda-compat-11-2\n",
            "NV_CUDNN_PACKAGE_DEV => libcudnn8-dev=8.1.1.33-1+cuda11.2\n",
            "LD_LIBRARY_PATH => /usr/local/nvidia/lib:/usr/local/nvidia/lib64\n",
            "NV_LIBNCCL_DEV_PACKAGE => libnccl-dev=2.8.4-1+cuda11.2\n",
            "TCLLIBPATH => /usr/share/tcltk/tcllib1.19\n",
            "CLOUDSDK_PYTHON => python3\n",
            "LANG => en_US.UTF-8\n",
            "NV_LIBNPP_DEV_PACKAGE => libnpp-dev-11-2=11.3.2.152-1\n",
            "HOSTNAME => 72cb702d1d3a\n",
            "OLDPWD => /\n",
            "CLOUDSDK_CONFIG => /content/.config\n",
            "NV_LIBNPP_VERSION => 11.3.2.152-1\n",
            "NV_NVPROF_DEV_PACKAGE => cuda-nvprof-11-2=11.2.152-1\n",
            "NVIDIA_VISIBLE_DEVICES => all\n",
            "NV_NVPROF_VERSION => 11.2.152-1\n",
            "NV_LIBCUSPARSE_VERSION => 11.4.1.1152-1\n",
            "DATALAB_SETTINGS_OVERRIDES => {\"kernelManagerProxyPort\":6000,\"kernelManagerProxyHost\":\"172.28.0.13\",\"jupyterArgs\":[\"--ip=172.28.0.12\",\"--transport=ipc\"],\"debugAdapterMultiplexerPath\":\"/usr/local/bin/dap_multiplexer\",\"enableLsp\":true}\n",
            "NV_LIBCUBLAS_DEV_PACKAGE => libcublas-dev-11-2=11.4.1.1043-1\n",
            "ENV => /root/.bashrc\n",
            "NCCL_VERSION => 2.8.4-1\n",
            "TF_FORCE_GPU_ALLOW_GROWTH => true\n",
            "NO_GCE_CHECK => False\n",
            "PWD => /\n",
            "NVARCH => x86_64\n",
            "HOME => /root\n",
            "NV_LIBCUSPARSE_DEV_VERSION => 11.4.1.1152-1\n",
            "KMP_LISTEN_PORT => 6000\n",
            "LAST_FORCED_REBUILD => 20221021\n",
            "NV_LIBNCCL_PACKAGE_VERSION => 2.8.4-1\n",
            "NV_LIBNCCL_PACKAGE => libnccl2=2.8.4-1+cuda11.2\n",
            "DEBIAN_FRONTEND => noninteractive\n",
            "NV_LIBNCCL_DEV_PACKAGE_NAME => libnccl-dev\n",
            "NV_CUDA_LIB_VERSION => 11.2.2-1\n",
            "NV_LIBNPP_PACKAGE => libnpp-11-2=11.3.2.152-1\n",
            "NV_LIBNCCL_PACKAGE_NAME => libnccl2\n",
            "LIBRARY_PATH => /usr/local/cuda/lib64/stubs\n",
            "NV_NVTX_VERSION => 11.2.152-1\n",
            "NV_LIBCUBLAS_VERSION => 11.4.1.1043-1\n",
            "NV_LIBCUBLAS_PACKAGE => libcublas-11-2=11.4.1.1043-1\n",
            "GCE_METADATA_TIMEOUT => 3\n",
            "NV_CUDNN_VERSION => 8.1.1.33\n",
            "VM_GCE_METADATA_HOST => 169.254.169.254\n",
            "NV_CUDA_CUDART_DEV_VERSION => 11.2.152-1\n",
            "KMP_TARGET_PORT => 9000\n",
            "GLIBCPP_FORCE_NEW => 1\n",
            "TBE_CREDS_ADDR => 172.28.0.1:8008\n",
            "SHELL => /bin/bash\n",
            "GCS_READ_CACHE_BLOCK_SIZE_MB => 16\n",
            "NV_NVML_DEV_VERSION => 11.2.152-1\n",
            "PYTHONWARNINGS => ignore:::pip._internal.cli.base_command\n",
            "CUDA_VERSION => 11.2.2\n",
            "NV_LIBCUBLAS_PACKAGE_NAME => libcublas-11-2\n",
            "NVIDIA_DRIVER_CAPABILITIES => compute,utility\n",
            "TBE_RUNTIME_ADDR => 172.28.0.1:8011\n",
            "SHLVL => 0\n",
            "PYTHONPATH => /env/python\n",
            "NV_LIBCUBLAS_DEV_PACKAGE_NAME => libcublas-dev-11-2\n",
            "NVIDIA_REQUIRE_CUDA => cuda>=11.2 brand=tesla,driver>=418,driver<419 brand=tesla,driver>=450,driver<451\n",
            "NV_LIBNPP_DEV_VERSION => 11.3.2.152-1\n",
            "TBE_EPHEM_CREDS_ADDR => 172.28.0.1:8009\n",
            "NV_CUDA_CUDART_VERSION => 11.2.152-1\n",
            "NV_CUDNN_PACKAGE_NAME => libcudnn8\n",
            "GLIBCXX_FORCE_NEW => 1\n",
            "PATH => /opt/bin:/usr/local/nvidia/bin:/usr/local/cuda/bin:/usr/local/sbin:/usr/local/bin:/usr/sbin:/usr/bin:/sbin:/bin:/tools/node/bin:/tools/google-cloud-sdk/bin\n",
            "NV_LIBNCCL_DEV_PACKAGE_VERSION => 2.8.4-1\n",
            "LD_PRELOAD => /usr/lib/x86_64-linux-gnu/libtcmalloc.so.4\n",
            "NV_CUDNN_PACKAGE => libcudnn8=8.1.1.33-1+cuda11.2\n",
            "JPY_PARENT_PID => 61\n",
            "TERM => xterm-color\n",
            "CLICOLOR => 1\n",
            "PAGER => cat\n",
            "GIT_PAGER => cat\n",
            "MPLBACKEND => module://ipykernel.pylab.backend_inline\n",
            "ENABLE_DIRECTORYPREFETCHER => 1\n",
            "USE_AUTH_EPHEM => 1\n",
            "PYDEVD_USE_FRAME_EVAL => NO\n"
          ]
        }
      ],
      "source": [
        "for key in os.environ:\n",
        "    print(key, '=>', os.environ[key])"
      ]
    },
    {
      "cell_type": "markdown",
      "metadata": {
        "id": "s23izIbV7-5-"
      },
      "source": [
        "20. Как игнорировать warrnings?"
      ]
    },
    {
      "cell_type": "code",
      "source": [
        "import warnings\n",
        "warnings.filterwarnings(\"ignore\")"
      ],
      "metadata": {
        "id": "cgPPx-rM3kyd"
      },
      "execution_count": null,
      "outputs": []
    },
    {
      "cell_type": "markdown",
      "metadata": {
        "id": "XE6k7cay7-5-"
      },
      "source": [
        "* Про datetime и timedelta \n",
        "\n",
        "https://www.guru99.com/date-time-and-datetime-classes-in-python.html"
      ]
    },
    {
      "cell_type": "code",
      "source": [
        "import datetime\n",
        "from datetime import date\n",
        "from datetime import time\n",
        "from datetime import datetime, timedelta"
      ],
      "metadata": {
        "id": "YPSPAfKv81Ar"
      },
      "execution_count": null,
      "outputs": []
    },
    {
      "cell_type": "markdown",
      "metadata": {
        "id": "SzCH8oZO7-5-"
      },
      "source": [
        "21. Вывести сегодняшнюю, вчерашнюю и завтрашнюю дату (☆☆☆)"
      ]
    },
    {
      "cell_type": "code",
      "execution_count": null,
      "metadata": {
        "id": "J4duLqPc7-5_",
        "colab": {
          "base_uri": "https://localhost:8080/"
        },
        "outputId": "3f8f8bd2-9b51-4882-ff2d-524e7d8758b9"
      },
      "outputs": [
        {
          "output_type": "stream",
          "name": "stdout",
          "text": [
            "Вчера было:  05-11-2022\n",
            "Сегодня:  06-11-2022\n",
            "Завтра будет:  07-11-2022\n"
          ]
        }
      ],
      "source": [
        "today = datetime.now() \n",
        "yesterday = today - timedelta(1)\n",
        "tomorrow = today + timedelta(1)\n",
        "\n",
        "print(\"Вчера было: \", yesterday.strftime('%d-%m-%Y'))\n",
        "print(\"Сегодня: \", today.strftime('%d-%m-%Y'))\n",
        "print(\"Завтра будет: \", tomorrow.strftime('%d-%m-%Y'))"
      ]
    },
    {
      "cell_type": "markdown",
      "metadata": {
        "id": "MLqVlaHK7-5_"
      },
      "source": [
        "22. Вывести день недели сегодняшней даты (★☆☆)"
      ]
    },
    {
      "cell_type": "code",
      "execution_count": null,
      "metadata": {
        "id": "G8SGml7y7-5_",
        "colab": {
          "base_uri": "https://localhost:8080/"
        },
        "outputId": "6ca42bd3-a9e4-4db2-aff6-9054b5557480"
      },
      "outputs": [
        {
          "output_type": "stream",
          "name": "stdout",
          "text": [
            "Sunday\n"
          ]
        }
      ],
      "source": [
        "week_day = 'Monday Tuesday Wednesday Thursday Friday Saturday Sunday'.split()\n",
        "print(week_day[today.weekday()])"
      ]
    },
    {
      "cell_type": "markdown",
      "metadata": {
        "id": "REha1tAt7-5_"
      },
      "source": [
        "23. Получить список дат за предыдущую неделю (★★☆)"
      ]
    },
    {
      "cell_type": "code",
      "execution_count": null,
      "metadata": {
        "id": "59rDsO2X7-5_"
      },
      "outputs": [],
      "source": []
    },
    {
      "cell_type": "markdown",
      "metadata": {
        "id": "eGzHWYoJ7-5_"
      },
      "source": [
        "24. Вывести дату с часами и минутами, отформатировать в формате: 01.12.2019 00:12:54 (★★☆)\n",
        "            \n",
        "(hint: now().strftime())"
      ]
    },
    {
      "cell_type": "code",
      "execution_count": null,
      "metadata": {
        "id": "ERifWa0x7-5_",
        "colab": {
          "base_uri": "https://localhost:8080/"
        },
        "outputId": "93af33d8-dabf-41c7-ef75-1786639180d1"
      },
      "outputs": [
        {
          "output_type": "stream",
          "name": "stdout",
          "text": [
            "06.11.2022 12:54:09\n"
          ]
        }
      ],
      "source": [
        "t = datetime.time(datetime.now())\n",
        "tt = datetime.now().strftime('%d.%m.%Y %H:%M:%S')\n",
        "print(tt)"
      ]
    },
    {
      "cell_type": "markdown",
      "metadata": {
        "id": "xtw6syHf7-5_"
      },
      "source": [
        "25. Исходя из текущей даты вычислить дату предыдущего понедельника (★★★)"
      ]
    },
    {
      "cell_type": "code",
      "execution_count": 108,
      "metadata": {
        "id": "2j3IO3nm7-6A",
        "colab": {
          "base_uri": "https://localhost:8080/"
        },
        "outputId": "f4689a2d-99b7-4ebc-9c37-9322646e666d"
      },
      "outputs": [
        {
          "output_type": "stream",
          "name": "stdout",
          "text": [
            "01-11-2022\n"
          ]
        }
      ],
      "source": [
        "### ПЕРЕДЕЛАТЬ\n",
        "td = yesterday.weekday()\n",
        "count = 0\n",
        "if td == 0:\n",
        "  print((today - timedelta(6)).strftime('%d-%m-%Y'))\n",
        "else:\n",
        "  while td != 0:\n",
        "    td -= 1\n",
        "    count += 1\n",
        "  print((today - timedelta(count)).strftime('%d-%m-%Y'))"
      ]
    },
    {
      "cell_type": "markdown",
      "metadata": {
        "id": "erB0b_lQ7-6A"
      },
      "source": [
        "# Numpy"
      ]
    },
    {
      "cell_type": "markdown",
      "metadata": {
        "id": "PGAVDzpv7-6A"
      },
      "source": [
        "### numpy в картинках (реально лучший):\n",
        "\n",
        "https://jalammar.github.io/visual-numpy/"
      ]
    },
    {
      "cell_type": "code",
      "source": [
        "import numpy as np"
      ],
      "metadata": {
        "id": "QNwC31QmO7qa"
      },
      "execution_count": 217,
      "outputs": []
    },
    {
      "cell_type": "markdown",
      "metadata": {
        "id": "Zc2HN9ah7-6A"
      },
      "source": [
        "1. Задать нулевой вектор размером 10 (★☆☆)\n",
        "\n",
        "(hint: np.zeros)"
      ]
    },
    {
      "cell_type": "code",
      "execution_count": 216,
      "metadata": {
        "id": "Mo3_ncPr7-6A",
        "colab": {
          "base_uri": "https://localhost:8080/"
        },
        "outputId": "eecdd822-18f0-464e-8a5a-b88753ded001"
      },
      "outputs": [
        {
          "output_type": "stream",
          "name": "stdout",
          "text": [
            "[0 0 0 0 0 0 0 0 0 0]\n"
          ]
        }
      ],
      "source": [
        "vec = np.zeros(10, dtype=np.integer)\n",
        "print(vec)"
      ]
    },
    {
      "cell_type": "markdown",
      "metadata": {
        "id": "zo6g4t_O7-6A"
      },
      "source": [
        "2. Как найти размер занимаемой памяти любым массивом (★☆☆)\n",
        "\n",
        "(hint: size, itemsize)"
      ]
    },
    {
      "cell_type": "code",
      "execution_count": 215,
      "metadata": {
        "id": "H4u2UL4R7-6A",
        "colab": {
          "base_uri": "https://localhost:8080/"
        },
        "outputId": "10775dff-4084-47ab-a379-30bd737e1698"
      },
      "outputs": [
        {
          "output_type": "stream",
          "name": "stdout",
          "text": [
            "8\n",
            "152\n",
            "152\n"
          ]
        }
      ],
      "source": [
        "a = np.array([[10,20],[30,40]], dtype=np.float64)\n",
        "print(a.itemsize)\n",
        "print(a.__sizeof__())\n",
        "print(sys.getsizeof(a))\n",
        "##"
      ]
    },
    {
      "cell_type": "markdown",
      "metadata": {
        "id": "RgMlxewK7-6A"
      },
      "source": [
        "3. Создать вектор из 10 нулей, кроме пятого элемента, который равен 1 (★☆☆)"
      ]
    },
    {
      "cell_type": "code",
      "execution_count": 214,
      "metadata": {
        "id": "jiQkXc4O7-6A",
        "colab": {
          "base_uri": "https://localhost:8080/"
        },
        "outputId": "aed6c116-9d8a-43cf-d293-415245eeeed9"
      },
      "outputs": [
        {
          "output_type": "stream",
          "name": "stdout",
          "text": [
            "[0 0 0 0 1 0 0 0 0 0]\n",
            "[0 0 0 0 1 0 0 0 0 0]\n"
          ]
        }
      ],
      "source": [
        "vec3_1 = (np.arange(10) == 4).astype(int)\n",
        "print(vec3_1)\n",
        "\n",
        "#\n",
        "\n",
        "vec3_2 = np.zeros(10, dtype=np.integer)\n",
        "vec3_2[4] = 1\n",
        "print(vec3_2)"
      ]
    },
    {
      "cell_type": "markdown",
      "metadata": {
        "id": "kPEle2qT7-6B"
      },
      "source": [
        "4. Создать вектор от 10 до 50 включительно (★☆☆)\n",
        "\n",
        "(hint:np.arange)"
      ]
    },
    {
      "cell_type": "code",
      "execution_count": 212,
      "metadata": {
        "id": "fJnAkqW-7-6B",
        "colab": {
          "base_uri": "https://localhost:8080/"
        },
        "outputId": "fe69bbee-a12c-4708-b233-45cd02e80357"
      },
      "outputs": [
        {
          "output_type": "stream",
          "name": "stdout",
          "text": [
            "10 11 12 13 14 15 16 17 18 19 20 21 22 23 24 25 26 27 28 29 30 31 32 33 34 35 36 37 38 39 40 41 42 43 44 45 46 47 48 49\n"
          ]
        }
      ],
      "source": [
        "print(*np.arange(10,50, dtype=np.integer))"
      ]
    },
    {
      "cell_type": "markdown",
      "metadata": {
        "id": "9P1_c7se7-6B"
      },
      "source": [
        "5. Перевернуть вектор (первый элемент будет последним) (★☆☆)"
      ]
    },
    {
      "cell_type": "code",
      "execution_count": 160,
      "metadata": {
        "id": "nZ8mw8B67-6B",
        "colab": {
          "base_uri": "https://localhost:8080/"
        },
        "outputId": "548beb01-7330-4822-f5f7-e6828588dc2f"
      },
      "outputs": [
        {
          "output_type": "stream",
          "name": "stdout",
          "text": [
            "[9 8 7 6 5 4 3 2 1]\n"
          ]
        }
      ],
      "source": [
        "matrix5 = np.arange(1,10)\n",
        "print(matrix5[::-1])"
      ]
    },
    {
      "cell_type": "markdown",
      "metadata": {
        "id": "431qEvN87-6B"
      },
      "source": [
        "6. Создать матрицу 3х3 с элементами от 0 до 8 (★☆☆)\n",
        "\n",
        "(hint: reshape)"
      ]
    },
    {
      "cell_type": "code",
      "execution_count": 167,
      "metadata": {
        "id": "b4A8JfF37-6B",
        "colab": {
          "base_uri": "https://localhost:8080/"
        },
        "outputId": "90d9d2ea-beef-49c3-f57f-6e8723d1634f"
      },
      "outputs": [
        {
          "output_type": "stream",
          "name": "stdout",
          "text": [
            "[[0 1 2]\n",
            " [3 4 5]\n",
            " [6 7 8]]\n"
          ]
        }
      ],
      "source": [
        "matrix6 = np.arange(9).reshape(3,3)\n",
        "print(matrix6)"
      ]
    },
    {
      "cell_type": "markdown",
      "metadata": {
        "id": "PMb49oNH7-6B"
      },
      "source": [
        "7. Найти индексы не нулевых эемелентов в numpy array [1,2,0,0,4,0] (★☆☆)\n",
        "\n",
        "(hint: np.nonzero)"
      ]
    },
    {
      "cell_type": "code",
      "execution_count": 170,
      "metadata": {
        "id": "K8dAIKrt7-6B",
        "colab": {
          "base_uri": "https://localhost:8080/"
        },
        "outputId": "7639f456-f349-4d2f-fbde-b90d87c2cc3c"
      },
      "outputs": [
        {
          "output_type": "stream",
          "name": "stdout",
          "text": [
            "[0 1 4]\n"
          ]
        }
      ],
      "source": [
        "matrix7 = np.array([1,2,0,0,4,0], dtype=np.integer)\n",
        "print(*matrix7.nonzero())"
      ]
    },
    {
      "cell_type": "markdown",
      "metadata": {
        "id": "jmOnmP6b7-6B"
      },
      "source": [
        "8. Создать матрицу 10x10 array с рандомными числами и найти минимум, максимум и среднее (★☆☆)"
      ]
    },
    {
      "cell_type": "code",
      "execution_count": 178,
      "metadata": {
        "id": "PvbVEYkt7-6B",
        "colab": {
          "base_uri": "https://localhost:8080/"
        },
        "outputId": "04e1255d-8637-4586-86e1-143f7d5f273b"
      },
      "outputs": [
        {
          "output_type": "stream",
          "name": "stdout",
          "text": [
            "min = 0.01908383554118076\n",
            "max = 0.9914769184032853\n",
            "avg = 0.538070235413826\n"
          ]
        }
      ],
      "source": [
        "matrix8 = np.random.random(100).reshape(10,10)\n",
        "print(f'min = {matrix8.min()}', f'max = {matrix8.max()}', f'avg = {matrix8.mean()}', sep='\\n')"
      ]
    },
    {
      "cell_type": "markdown",
      "metadata": {
        "id": "7Akk1awh7-6C"
      },
      "source": [
        "9. Создать матрицу 8x8 и заполнить 0 и 1 в стиле шахматной доски (★☆☆)\n",
        "\n",
        "(hint: array[::n])"
      ]
    },
    {
      "cell_type": "code",
      "execution_count": 191,
      "metadata": {
        "id": "825TezXL7-6C",
        "colab": {
          "base_uri": "https://localhost:8080/"
        },
        "outputId": "aa83c36c-76ee-47a2-9253-9d5ed663203f"
      },
      "outputs": [
        {
          "output_type": "stream",
          "name": "stdout",
          "text": [
            "[[0 1 0 1 0 1 0 1]\n",
            " [1 0 1 0 1 0 1 0]\n",
            " [0 1 0 1 0 1 0 1]\n",
            " [1 0 1 0 1 0 1 0]\n",
            " [0 1 0 1 0 1 0 1]\n",
            " [1 0 1 0 1 0 1 0]\n",
            " [0 1 0 1 0 1 0 1]\n",
            " [1 0 1 0 1 0 1 0]]\n"
          ]
        }
      ],
      "source": [
        "matrix9 = np.zeros((8,8), dtype=np.integer)\n",
        "matrix9[1::2,::2] = 1\n",
        "matrix9[::2,1::2] = 1\n",
        "print(matrix9)"
      ]
    },
    {
      "cell_type": "markdown",
      "metadata": {
        "id": "tPItbLuk7-6C"
      },
      "source": [
        "10. Нормализовать рандомную матрицу 5x5 (★☆☆)\n",
        "\n",
        "(hint: (x - mean) / std)"
      ]
    },
    {
      "cell_type": "code",
      "execution_count": 205,
      "metadata": {
        "id": "NxpOioEr7-6C",
        "colab": {
          "base_uri": "https://localhost:8080/"
        },
        "outputId": "e06e29c1-dba8-465b-f4d8-b16cdf163d02"
      },
      "outputs": [
        {
          "output_type": "stream",
          "name": "stdout",
          "text": [
            "[[-1.6133689  -1.17515038 -0.58440326  1.46421503 -0.57991875]\n",
            " [ 1.29228138  0.76930026  0.37225683 -1.46681621  0.26483338]\n",
            " [ 0.58859843  0.60427057 -0.26872083  1.43166013 -1.34013029]\n",
            " [ 0.29649307  0.98045721  0.95687181  0.84850496 -0.32050625]\n",
            " [-0.86574433  1.44251119 -0.77532788 -1.04357212 -1.27859504]]\n"
          ]
        }
      ],
      "source": [
        "matrix10 = np.random.random((5,5))\n",
        "matrix10 = (matrix10 - matrix10.mean()) / matrix10.std()\n",
        "print(matrix10)"
      ]
    },
    {
      "cell_type": "markdown",
      "metadata": {
        "id": "rpnPFQiD7-6C"
      },
      "source": [
        "11. Найти общие элементы между двумя массивами\n",
        "\n",
        "(hint: np.intersect1d)"
      ]
    },
    {
      "cell_type": "code",
      "execution_count": 210,
      "metadata": {
        "id": "Om2KNfr57-6C",
        "colab": {
          "base_uri": "https://localhost:8080/"
        },
        "outputId": "d392fd89-5cc2-4ff2-8bae-5a0ad91f84dd"
      },
      "outputs": [
        {
          "output_type": "stream",
          "name": "stdout",
          "text": [
            "[4 5 6]\n"
          ]
        }
      ],
      "source": [
        "matrix11_a = np.arange(0,7, dtype=np.integer)\n",
        "matrix11_b = np.arange(4,9, dtype=np.integer)\n",
        "print(np.intersect1d(matrix11_a, matrix11_b))"
      ]
    },
    {
      "cell_type": "markdown",
      "metadata": {
        "id": "aqQ7cw7Z7-6C"
      },
      "source": [
        "12. Извлечь целую часть рандомного массива чисел различными способами (максимум 5) (★★☆)"
      ]
    },
    {
      "cell_type": "code",
      "execution_count": null,
      "metadata": {
        "id": "km63zOAL7-6C"
      },
      "outputs": [],
      "source": []
    },
    {
      "cell_type": "markdown",
      "metadata": {
        "id": "f_rFnjH37-6C"
      },
      "source": [
        "13. Создать рандомный вектор размера 10 и отсортировать его (★★☆)"
      ]
    },
    {
      "cell_type": "code",
      "execution_count": 220,
      "metadata": {
        "id": "QfFtNYNg7-6C",
        "colab": {
          "base_uri": "https://localhost:8080/"
        },
        "outputId": "523c2791-c707-41fd-e3f6-b0402b11565d"
      },
      "outputs": [
        {
          "output_type": "stream",
          "name": "stdout",
          "text": [
            "[0.12621793 0.13908878 0.19707993 0.21075708 0.64189502 0.67568719\n",
            " 0.69331236 0.78187608 0.89246792 0.90930037]\n"
          ]
        }
      ],
      "source": [
        "matrix13 = np.random.random(10)\n",
        "matrix13.sort()\n",
        "print(matrix13)"
      ]
    },
    {
      "cell_type": "markdown",
      "metadata": {
        "id": "bJzpgOl37-6D"
      },
      "source": [
        "14. Проверить одинаковы ли два рандомных массива А и B (★★☆)\n",
        "\n",
        "(hint: np.allclose, np.array_equal)"
      ]
    },
    {
      "cell_type": "code",
      "execution_count": 228,
      "metadata": {
        "id": "6n303JJr7-6D",
        "colab": {
          "base_uri": "https://localhost:8080/"
        },
        "outputId": "354ca705-3675-4dd1-a062-3dd24f943cff"
      },
      "outputs": [
        {
          "output_type": "stream",
          "name": "stdout",
          "text": [
            "True\n"
          ]
        }
      ],
      "source": [
        "m14_A = [1, 2, 3, 4, 5]\n",
        "m14_B = [2, 5, 1, 4, 3]\n",
        "\n",
        "m14_A.sort()\n",
        "m14_B.sort()\n",
        "\n",
        "print(np.array_equal (m14_A,m14_B))"
      ]
    },
    {
      "cell_type": "markdown",
      "metadata": {
        "id": "JoJglzhz7-6D"
      },
      "source": [
        "15. Создать рандомный вектор размером 10 и максимальный элемент заменить на -1 (★★☆)\n",
        "\n",
        "(hint: argmax)"
      ]
    },
    {
      "cell_type": "code",
      "execution_count": null,
      "metadata": {
        "id": "e5mGRtnL7-6D"
      },
      "outputs": [],
      "source": []
    },
    {
      "cell_type": "markdown",
      "metadata": {
        "id": "mAGLVuFF7-6D"
      },
      "source": [
        "16. Найдите самый близкий элемент к данному рандомному числу в векторе? (★★☆)\n",
        "\n",
        "(hint: argmin)"
      ]
    },
    {
      "cell_type": "code",
      "execution_count": null,
      "metadata": {
        "id": "89qRlKiw7-6D",
        "colab": {
          "base_uri": "https://localhost:8080/",
          "height": 135
        },
        "outputId": "e821e1a9-a5a6-4f63-b316-b7ef37dd053f"
      },
      "outputs": [
        {
          "output_type": "error",
          "ename": "SyntaxError",
          "evalue": "ignored",
          "traceback": [
            "\u001b[0;36m  File \u001b[0;32m\"<ipython-input-10-d6b3edcd24b5>\"\u001b[0;36m, line \u001b[0;32m3\u001b[0m\n\u001b[0;31m    index =  ???????\u001b[0m\n\u001b[0m             ^\u001b[0m\n\u001b[0;31mSyntaxError\u001b[0m\u001b[0;31m:\u001b[0m invalid syntax\n"
          ]
        }
      ],
      "source": [
        "Z = np.arange(100)\n",
        "v = np.random.uniform(0,100)\n",
        "index =  ???????\n",
        "print(Z[index])"
      ]
    },
    {
      "cell_type": "markdown",
      "metadata": {
        "id": "36WBkhF-7-6D"
      },
      "source": [
        "17. Посчитать среднее для каждой строки матрицы (★★☆)"
      ]
    },
    {
      "cell_type": "code",
      "execution_count": null,
      "metadata": {
        "id": "GnLZw8aJ7-6D"
      },
      "outputs": [],
      "source": []
    },
    {
      "cell_type": "markdown",
      "metadata": {
        "id": "uh0PaELi7-6D"
      },
      "source": [
        "18. Посчитать среднее со скользящим окном над массивом (★★★)\n",
        "\n",
        "(hint: np.cumsum)"
      ]
    },
    {
      "cell_type": "code",
      "execution_count": null,
      "metadata": {
        "id": "G1FMXEzw7-6D"
      },
      "outputs": [],
      "source": []
    },
    {
      "cell_type": "markdown",
      "metadata": {
        "id": "39MrQOOQ7-6D"
      },
      "source": [
        "<img src=\"gifs/bender.gif\" width=\"400\">"
      ]
    },
    {
      "cell_type": "markdown",
      "metadata": {
        "id": "hjyrzC-K7-6E"
      },
      "source": [
        "# Regular expressions\n",
        "\n",
        "* Cупер статья на все времена. Особенно понятно все про такие сложные штуки как lookaround. \n",
        "\n",
        "https://habr.com/ru/post/349860/\n",
        "\n",
        "\n",
        "* Задания на регулярки\n",
        "\n",
        "https://regexone.com/\n",
        "\n",
        "* На этом сайте удобно тестировать регулярку, которую мучаешь, можно написать несколько примеров и тестировать на них. Важно не забывать выбирать Python:\n",
        "\n",
        "https://regex101.com/"
      ]
    },
    {
      "cell_type": "markdown",
      "metadata": {
        "id": "Qyr-_5kN7-6E"
      },
      "source": [
        "1. Из строки в файле data/rejson.txt вытащить хэш. Пример:\n",
        "\n",
        "'master_guid': '<b>233880bb4c50d247f84edc9cac9e6e29</b>_2308194320'"
      ]
    },
    {
      "cell_type": "code",
      "execution_count": null,
      "metadata": {
        "id": "snI9_pDw7-6E"
      },
      "outputs": [],
      "source": []
    },
    {
      "cell_type": "markdown",
      "metadata": {
        "id": "LvMyVVti7-6E"
      },
      "source": [
        "# Pandas"
      ]
    },
    {
      "cell_type": "markdown",
      "metadata": {
        "id": "1phjMjs87-6E"
      },
      "source": [
        "* Pandas в картинках\n",
        "\n",
        "https://jalammar.github.io/gentle-visual-intro-to-data-analysis-python-pandas/\n",
        "\n",
        "* 10 minutes to pandas\n",
        "\n",
        "https://pandas.pydata.org/pandas-docs/stable/getting_started/10min.html\n",
        "\n",
        "* 🐼реально классный твиттер чувака с крутыми pandas tricks:\n",
        "    \n",
        "https://mobile.twitter.com/i/moments/1158828895547854849"
      ]
    }
  ],
  "metadata": {
    "kernelspec": {
      "display_name": "Python 3 (ipykernel)",
      "language": "python",
      "name": "python3"
    },
    "language_info": {
      "codemirror_mode": {
        "name": "ipython",
        "version": 3
      },
      "file_extension": ".py",
      "mimetype": "text/x-python",
      "name": "python",
      "nbconvert_exporter": "python",
      "pygments_lexer": "ipython3",
      "version": "3.9.12"
    },
    "colab": {
      "provenance": [],
      "collapsed_sections": [],
      "include_colab_link": true
    }
  },
  "nbformat": 4,
  "nbformat_minor": 0
}