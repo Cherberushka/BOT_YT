{
  "cells": [
    {
      "cell_type": "markdown",
      "metadata": {
        "id": "view-in-github",
        "colab_type": "text"
      },
      "source": [
        "<a href=\"https://colab.research.google.com/github/Cherberushka/BOT_YT/blob/master/HW_2.ipynb\" target=\"_parent\"><img src=\"https://colab.research.google.com/assets/colab-badge.svg\" alt=\"Open In Colab\"/></a>"
      ]
    },
    {
      "cell_type": "markdown",
      "metadata": {
        "id": "01nf2RR5SrHP"
      },
      "source": [
        "# Домашнее задание №2\n"
      ]
    },
    {
      "cell_type": "markdown",
      "metadata": {
        "id": "GlxtZK2zSx5O"
      },
      "source": [
        "Перед вами датасет с данными о вреде курения\n",
        "\n",
        "\n",
        "Структура данных:\n",
        "\n",
        "1. **gender**: Пол пациента\n",
        "2. **age**: Возраст пациента\n",
        "3. **hypertension**: Наличие гипертонии у пациента 1 - есть, 0 - не наблюдалось\n",
        "4. **heart_disease**: Наличие у пациента болезней связанных с сердцем 1 - есть, 0 - здоров\n",
        "5. **ever_married**: Брак - (Состоял в браке/ холост)\n",
        "6. **work_type**: Работ - Ребенок(children), Госслужащий(Govt_jov), Никогда не работал(Never_worked), Самозанятый(self-employed) или Скрыто(private)\n",
        "7. **Residence_type**: место работы городская среда(Urban)/удаленка или за городом(Rural)\n",
        "8. **avg_glucose_level**: средний уровень глюкозы в крови\n",
        "9. **bmi**: индекс массы тела\n",
        "10. **smoking_status**: Пациент курит(Иногда, всегда, время от времени или Unknown - неизвестно)\n",
        "11. **stroke**: Перенесенный инсульт (1 - пациент перенес инсульт, 0 - инсульта не было) - *ваш target*"
      ]
    },
    {
      "cell_type": "markdown",
      "metadata": {
        "id": "CHB6jMIwVltb"
      },
      "source": [
        "## Ваша задача\n",
        "\n",
        "№1 Восстановить целостностью данных, реализовать функцию позволяющие выполнять заполнение данных по среднему или по медианному значению в Series. \n",
        "\n",
        "1.  Заполнить пропуски\n",
        "2.  Убрать дубликаты\n",
        "3.  Убрать некорректные данные и.т.п.\n",
        "\n",
        "\n",
        "№2 Построить baseline-модель, попытаться выбить лучший скор (сравнить несколько моделей)\n",
        "\n",
        "№3 Сделать визуализацию для мини-исследования о вреде курения с разбивкой по половой принадлежности пациентов с помощью pandas, matplotlib, seaborn, plotly и других инструментов."
      ]
    },
    {
      "cell_type": "markdown",
      "source": [
        "# №1 Восстановить целостностью данных, реализовать функцию позволяющие выполнять заполнение данных по среднему или по медианному значению в Series."
      ],
      "metadata": {
        "id": "1msvnqNu8mBY"
      }
    },
    {
      "cell_type": "code",
      "execution_count": null,
      "metadata": {
        "id": "afEGWnR_FgfW"
      },
      "outputs": [],
      "source": [
        "import pandas as pd\n",
        "import numpy as np\n",
        "import seaborn as sns\n",
        "\n",
        "from sklearn.preprocessing import OrdinalEncoder\n",
        "\n"
      ]
    },
    {
      "cell_type": "code",
      "execution_count": null,
      "metadata": {
        "id": "Zld-9ebpFmNb"
      },
      "outputs": [],
      "source": [
        "url = 'https://drive.google.com/file/d/1He5GI5_Gd8uXYfeETLBISQ5BszX0o4pU/view?usp=sharing'\n",
        "url = 'https://drive.google.com/uc?id=' + url.split('/')[-2]\n",
        "data_index = pd.read_csv(url,names=['index','gender', 'age', 'hypertension', 'heart_disease',\n",
        "       'ever_married', 'work_type', 'Residence_type', 'avg_glucose_level',\n",
        "       'bmi', 'smoking_status', 'stroke'])"
      ]
    },
    {
      "cell_type": "code",
      "source": [
        "data_index.head()"
      ],
      "metadata": {
        "colab": {
          "base_uri": "https://localhost:8080/",
          "height": 206
        },
        "id": "nYaGpAwKAeI9",
        "outputId": "2bf91f41-27ba-4bc2-e4e1-fd613a92b4d8"
      },
      "execution_count": null,
      "outputs": [
        {
          "output_type": "execute_result",
          "data": {
            "text/plain": [
              "   index  gender   age  hypertension  heart_disease  ever_married  \\\n",
              "0    NaN  gender   age  hypertension  heart_disease  ever_married   \n",
              "1    0.0  gender   age  hypertension  heart_disease  ever_married   \n",
              "2    1.0    Male  67.0           0.0            1.0           Yes   \n",
              "3    2.0  Female  61.0           0.0            0.0           Yes   \n",
              "4    3.0    Male  80.0           0.0            1.0           Yes   \n",
              "\n",
              "       work_type  Residence_type  avg_glucose_level   bmi   smoking_status  \\\n",
              "0      work_type  Residence_type  avg_glucose_level   bmi   smoking_status   \n",
              "1      work_type  Residence_type  avg_glucose_level   bmi   smoking_status   \n",
              "2        Private           Urban             228.69   NaN  formerly smoked   \n",
              "3  Self-employed           Rural             202.21   NaN     never smoked   \n",
              "4        Private             NaN             105.92  32.5     never smoked   \n",
              "\n",
              "   stroke  \n",
              "0  stroke  \n",
              "1  stroke  \n",
              "2       1  \n",
              "3       1  \n",
              "4       1  "
            ],
            "text/html": [
              "\n",
              "  <div id=\"df-319dccbf-ad4c-4c60-805c-1ad8a3c91229\">\n",
              "    <div class=\"colab-df-container\">\n",
              "      <div>\n",
              "<style scoped>\n",
              "    .dataframe tbody tr th:only-of-type {\n",
              "        vertical-align: middle;\n",
              "    }\n",
              "\n",
              "    .dataframe tbody tr th {\n",
              "        vertical-align: top;\n",
              "    }\n",
              "\n",
              "    .dataframe thead th {\n",
              "        text-align: right;\n",
              "    }\n",
              "</style>\n",
              "<table border=\"1\" class=\"dataframe\">\n",
              "  <thead>\n",
              "    <tr style=\"text-align: right;\">\n",
              "      <th></th>\n",
              "      <th>index</th>\n",
              "      <th>gender</th>\n",
              "      <th>age</th>\n",
              "      <th>hypertension</th>\n",
              "      <th>heart_disease</th>\n",
              "      <th>ever_married</th>\n",
              "      <th>work_type</th>\n",
              "      <th>Residence_type</th>\n",
              "      <th>avg_glucose_level</th>\n",
              "      <th>bmi</th>\n",
              "      <th>smoking_status</th>\n",
              "      <th>stroke</th>\n",
              "    </tr>\n",
              "  </thead>\n",
              "  <tbody>\n",
              "    <tr>\n",
              "      <th>0</th>\n",
              "      <td>NaN</td>\n",
              "      <td>gender</td>\n",
              "      <td>age</td>\n",
              "      <td>hypertension</td>\n",
              "      <td>heart_disease</td>\n",
              "      <td>ever_married</td>\n",
              "      <td>work_type</td>\n",
              "      <td>Residence_type</td>\n",
              "      <td>avg_glucose_level</td>\n",
              "      <td>bmi</td>\n",
              "      <td>smoking_status</td>\n",
              "      <td>stroke</td>\n",
              "    </tr>\n",
              "    <tr>\n",
              "      <th>1</th>\n",
              "      <td>0.0</td>\n",
              "      <td>gender</td>\n",
              "      <td>age</td>\n",
              "      <td>hypertension</td>\n",
              "      <td>heart_disease</td>\n",
              "      <td>ever_married</td>\n",
              "      <td>work_type</td>\n",
              "      <td>Residence_type</td>\n",
              "      <td>avg_glucose_level</td>\n",
              "      <td>bmi</td>\n",
              "      <td>smoking_status</td>\n",
              "      <td>stroke</td>\n",
              "    </tr>\n",
              "    <tr>\n",
              "      <th>2</th>\n",
              "      <td>1.0</td>\n",
              "      <td>Male</td>\n",
              "      <td>67.0</td>\n",
              "      <td>0.0</td>\n",
              "      <td>1.0</td>\n",
              "      <td>Yes</td>\n",
              "      <td>Private</td>\n",
              "      <td>Urban</td>\n",
              "      <td>228.69</td>\n",
              "      <td>NaN</td>\n",
              "      <td>formerly smoked</td>\n",
              "      <td>1</td>\n",
              "    </tr>\n",
              "    <tr>\n",
              "      <th>3</th>\n",
              "      <td>2.0</td>\n",
              "      <td>Female</td>\n",
              "      <td>61.0</td>\n",
              "      <td>0.0</td>\n",
              "      <td>0.0</td>\n",
              "      <td>Yes</td>\n",
              "      <td>Self-employed</td>\n",
              "      <td>Rural</td>\n",
              "      <td>202.21</td>\n",
              "      <td>NaN</td>\n",
              "      <td>never smoked</td>\n",
              "      <td>1</td>\n",
              "    </tr>\n",
              "    <tr>\n",
              "      <th>4</th>\n",
              "      <td>3.0</td>\n",
              "      <td>Male</td>\n",
              "      <td>80.0</td>\n",
              "      <td>0.0</td>\n",
              "      <td>1.0</td>\n",
              "      <td>Yes</td>\n",
              "      <td>Private</td>\n",
              "      <td>NaN</td>\n",
              "      <td>105.92</td>\n",
              "      <td>32.5</td>\n",
              "      <td>never smoked</td>\n",
              "      <td>1</td>\n",
              "    </tr>\n",
              "  </tbody>\n",
              "</table>\n",
              "</div>\n",
              "      <button class=\"colab-df-convert\" onclick=\"convertToInteractive('df-319dccbf-ad4c-4c60-805c-1ad8a3c91229')\"\n",
              "              title=\"Convert this dataframe to an interactive table.\"\n",
              "              style=\"display:none;\">\n",
              "        \n",
              "  <svg xmlns=\"http://www.w3.org/2000/svg\" height=\"24px\"viewBox=\"0 0 24 24\"\n",
              "       width=\"24px\">\n",
              "    <path d=\"M0 0h24v24H0V0z\" fill=\"none\"/>\n",
              "    <path d=\"M18.56 5.44l.94 2.06.94-2.06 2.06-.94-2.06-.94-.94-2.06-.94 2.06-2.06.94zm-11 1L8.5 8.5l.94-2.06 2.06-.94-2.06-.94L8.5 2.5l-.94 2.06-2.06.94zm10 10l.94 2.06.94-2.06 2.06-.94-2.06-.94-.94-2.06-.94 2.06-2.06.94z\"/><path d=\"M17.41 7.96l-1.37-1.37c-.4-.4-.92-.59-1.43-.59-.52 0-1.04.2-1.43.59L10.3 9.45l-7.72 7.72c-.78.78-.78 2.05 0 2.83L4 21.41c.39.39.9.59 1.41.59.51 0 1.02-.2 1.41-.59l7.78-7.78 2.81-2.81c.8-.78.8-2.07 0-2.86zM5.41 20L4 18.59l7.72-7.72 1.47 1.35L5.41 20z\"/>\n",
              "  </svg>\n",
              "      </button>\n",
              "      \n",
              "  <style>\n",
              "    .colab-df-container {\n",
              "      display:flex;\n",
              "      flex-wrap:wrap;\n",
              "      gap: 12px;\n",
              "    }\n",
              "\n",
              "    .colab-df-convert {\n",
              "      background-color: #E8F0FE;\n",
              "      border: none;\n",
              "      border-radius: 50%;\n",
              "      cursor: pointer;\n",
              "      display: none;\n",
              "      fill: #1967D2;\n",
              "      height: 32px;\n",
              "      padding: 0 0 0 0;\n",
              "      width: 32px;\n",
              "    }\n",
              "\n",
              "    .colab-df-convert:hover {\n",
              "      background-color: #E2EBFA;\n",
              "      box-shadow: 0px 1px 2px rgba(60, 64, 67, 0.3), 0px 1px 3px 1px rgba(60, 64, 67, 0.15);\n",
              "      fill: #174EA6;\n",
              "    }\n",
              "\n",
              "    [theme=dark] .colab-df-convert {\n",
              "      background-color: #3B4455;\n",
              "      fill: #D2E3FC;\n",
              "    }\n",
              "\n",
              "    [theme=dark] .colab-df-convert:hover {\n",
              "      background-color: #434B5C;\n",
              "      box-shadow: 0px 1px 3px 1px rgba(0, 0, 0, 0.15);\n",
              "      filter: drop-shadow(0px 1px 2px rgba(0, 0, 0, 0.3));\n",
              "      fill: #FFFFFF;\n",
              "    }\n",
              "  </style>\n",
              "\n",
              "      <script>\n",
              "        const buttonEl =\n",
              "          document.querySelector('#df-319dccbf-ad4c-4c60-805c-1ad8a3c91229 button.colab-df-convert');\n",
              "        buttonEl.style.display =\n",
              "          google.colab.kernel.accessAllowed ? 'block' : 'none';\n",
              "\n",
              "        async function convertToInteractive(key) {\n",
              "          const element = document.querySelector('#df-319dccbf-ad4c-4c60-805c-1ad8a3c91229');\n",
              "          const dataTable =\n",
              "            await google.colab.kernel.invokeFunction('convertToInteractive',\n",
              "                                                     [key], {});\n",
              "          if (!dataTable) return;\n",
              "\n",
              "          const docLinkHtml = 'Like what you see? Visit the ' +\n",
              "            '<a target=\"_blank\" href=https://colab.research.google.com/notebooks/data_table.ipynb>data table notebook</a>'\n",
              "            + ' to learn more about interactive tables.';\n",
              "          element.innerHTML = '';\n",
              "          dataTable['output_type'] = 'display_data';\n",
              "          await google.colab.output.renderOutput(dataTable, element);\n",
              "          const docLink = document.createElement('div');\n",
              "          docLink.innerHTML = docLinkHtml;\n",
              "          element.appendChild(docLink);\n",
              "        }\n",
              "      </script>\n",
              "    </div>\n",
              "  </div>\n",
              "  "
            ]
          },
          "metadata": {},
          "execution_count": 124
        }
      ]
    },
    {
      "cell_type": "code",
      "source": [
        "data = data_index.drop('index',axis=1)\n",
        "data.head()"
      ],
      "metadata": {
        "colab": {
          "base_uri": "https://localhost:8080/",
          "height": 206
        },
        "id": "deCiohax_1PV",
        "outputId": "c9541cbd-23fe-4007-8cd8-f0c092c23299"
      },
      "execution_count": null,
      "outputs": [
        {
          "output_type": "execute_result",
          "data": {
            "text/plain": [
              "   gender   age  hypertension  heart_disease  ever_married      work_type  \\\n",
              "0  gender   age  hypertension  heart_disease  ever_married      work_type   \n",
              "1  gender   age  hypertension  heart_disease  ever_married      work_type   \n",
              "2    Male  67.0           0.0            1.0           Yes        Private   \n",
              "3  Female  61.0           0.0            0.0           Yes  Self-employed   \n",
              "4    Male  80.0           0.0            1.0           Yes        Private   \n",
              "\n",
              "   Residence_type  avg_glucose_level   bmi   smoking_status  stroke  \n",
              "0  Residence_type  avg_glucose_level   bmi   smoking_status  stroke  \n",
              "1  Residence_type  avg_glucose_level   bmi   smoking_status  stroke  \n",
              "2           Urban             228.69   NaN  formerly smoked       1  \n",
              "3           Rural             202.21   NaN     never smoked       1  \n",
              "4             NaN             105.92  32.5     never smoked       1  "
            ],
            "text/html": [
              "\n",
              "  <div id=\"df-81e6ca11-2d9b-447d-9a99-7c54f4e3cc72\">\n",
              "    <div class=\"colab-df-container\">\n",
              "      <div>\n",
              "<style scoped>\n",
              "    .dataframe tbody tr th:only-of-type {\n",
              "        vertical-align: middle;\n",
              "    }\n",
              "\n",
              "    .dataframe tbody tr th {\n",
              "        vertical-align: top;\n",
              "    }\n",
              "\n",
              "    .dataframe thead th {\n",
              "        text-align: right;\n",
              "    }\n",
              "</style>\n",
              "<table border=\"1\" class=\"dataframe\">\n",
              "  <thead>\n",
              "    <tr style=\"text-align: right;\">\n",
              "      <th></th>\n",
              "      <th>gender</th>\n",
              "      <th>age</th>\n",
              "      <th>hypertension</th>\n",
              "      <th>heart_disease</th>\n",
              "      <th>ever_married</th>\n",
              "      <th>work_type</th>\n",
              "      <th>Residence_type</th>\n",
              "      <th>avg_glucose_level</th>\n",
              "      <th>bmi</th>\n",
              "      <th>smoking_status</th>\n",
              "      <th>stroke</th>\n",
              "    </tr>\n",
              "  </thead>\n",
              "  <tbody>\n",
              "    <tr>\n",
              "      <th>0</th>\n",
              "      <td>gender</td>\n",
              "      <td>age</td>\n",
              "      <td>hypertension</td>\n",
              "      <td>heart_disease</td>\n",
              "      <td>ever_married</td>\n",
              "      <td>work_type</td>\n",
              "      <td>Residence_type</td>\n",
              "      <td>avg_glucose_level</td>\n",
              "      <td>bmi</td>\n",
              "      <td>smoking_status</td>\n",
              "      <td>stroke</td>\n",
              "    </tr>\n",
              "    <tr>\n",
              "      <th>1</th>\n",
              "      <td>gender</td>\n",
              "      <td>age</td>\n",
              "      <td>hypertension</td>\n",
              "      <td>heart_disease</td>\n",
              "      <td>ever_married</td>\n",
              "      <td>work_type</td>\n",
              "      <td>Residence_type</td>\n",
              "      <td>avg_glucose_level</td>\n",
              "      <td>bmi</td>\n",
              "      <td>smoking_status</td>\n",
              "      <td>stroke</td>\n",
              "    </tr>\n",
              "    <tr>\n",
              "      <th>2</th>\n",
              "      <td>Male</td>\n",
              "      <td>67.0</td>\n",
              "      <td>0.0</td>\n",
              "      <td>1.0</td>\n",
              "      <td>Yes</td>\n",
              "      <td>Private</td>\n",
              "      <td>Urban</td>\n",
              "      <td>228.69</td>\n",
              "      <td>NaN</td>\n",
              "      <td>formerly smoked</td>\n",
              "      <td>1</td>\n",
              "    </tr>\n",
              "    <tr>\n",
              "      <th>3</th>\n",
              "      <td>Female</td>\n",
              "      <td>61.0</td>\n",
              "      <td>0.0</td>\n",
              "      <td>0.0</td>\n",
              "      <td>Yes</td>\n",
              "      <td>Self-employed</td>\n",
              "      <td>Rural</td>\n",
              "      <td>202.21</td>\n",
              "      <td>NaN</td>\n",
              "      <td>never smoked</td>\n",
              "      <td>1</td>\n",
              "    </tr>\n",
              "    <tr>\n",
              "      <th>4</th>\n",
              "      <td>Male</td>\n",
              "      <td>80.0</td>\n",
              "      <td>0.0</td>\n",
              "      <td>1.0</td>\n",
              "      <td>Yes</td>\n",
              "      <td>Private</td>\n",
              "      <td>NaN</td>\n",
              "      <td>105.92</td>\n",
              "      <td>32.5</td>\n",
              "      <td>never smoked</td>\n",
              "      <td>1</td>\n",
              "    </tr>\n",
              "  </tbody>\n",
              "</table>\n",
              "</div>\n",
              "      <button class=\"colab-df-convert\" onclick=\"convertToInteractive('df-81e6ca11-2d9b-447d-9a99-7c54f4e3cc72')\"\n",
              "              title=\"Convert this dataframe to an interactive table.\"\n",
              "              style=\"display:none;\">\n",
              "        \n",
              "  <svg xmlns=\"http://www.w3.org/2000/svg\" height=\"24px\"viewBox=\"0 0 24 24\"\n",
              "       width=\"24px\">\n",
              "    <path d=\"M0 0h24v24H0V0z\" fill=\"none\"/>\n",
              "    <path d=\"M18.56 5.44l.94 2.06.94-2.06 2.06-.94-2.06-.94-.94-2.06-.94 2.06-2.06.94zm-11 1L8.5 8.5l.94-2.06 2.06-.94-2.06-.94L8.5 2.5l-.94 2.06-2.06.94zm10 10l.94 2.06.94-2.06 2.06-.94-2.06-.94-.94-2.06-.94 2.06-2.06.94z\"/><path d=\"M17.41 7.96l-1.37-1.37c-.4-.4-.92-.59-1.43-.59-.52 0-1.04.2-1.43.59L10.3 9.45l-7.72 7.72c-.78.78-.78 2.05 0 2.83L4 21.41c.39.39.9.59 1.41.59.51 0 1.02-.2 1.41-.59l7.78-7.78 2.81-2.81c.8-.78.8-2.07 0-2.86zM5.41 20L4 18.59l7.72-7.72 1.47 1.35L5.41 20z\"/>\n",
              "  </svg>\n",
              "      </button>\n",
              "      \n",
              "  <style>\n",
              "    .colab-df-container {\n",
              "      display:flex;\n",
              "      flex-wrap:wrap;\n",
              "      gap: 12px;\n",
              "    }\n",
              "\n",
              "    .colab-df-convert {\n",
              "      background-color: #E8F0FE;\n",
              "      border: none;\n",
              "      border-radius: 50%;\n",
              "      cursor: pointer;\n",
              "      display: none;\n",
              "      fill: #1967D2;\n",
              "      height: 32px;\n",
              "      padding: 0 0 0 0;\n",
              "      width: 32px;\n",
              "    }\n",
              "\n",
              "    .colab-df-convert:hover {\n",
              "      background-color: #E2EBFA;\n",
              "      box-shadow: 0px 1px 2px rgba(60, 64, 67, 0.3), 0px 1px 3px 1px rgba(60, 64, 67, 0.15);\n",
              "      fill: #174EA6;\n",
              "    }\n",
              "\n",
              "    [theme=dark] .colab-df-convert {\n",
              "      background-color: #3B4455;\n",
              "      fill: #D2E3FC;\n",
              "    }\n",
              "\n",
              "    [theme=dark] .colab-df-convert:hover {\n",
              "      background-color: #434B5C;\n",
              "      box-shadow: 0px 1px 3px 1px rgba(0, 0, 0, 0.15);\n",
              "      filter: drop-shadow(0px 1px 2px rgba(0, 0, 0, 0.3));\n",
              "      fill: #FFFFFF;\n",
              "    }\n",
              "  </style>\n",
              "\n",
              "      <script>\n",
              "        const buttonEl =\n",
              "          document.querySelector('#df-81e6ca11-2d9b-447d-9a99-7c54f4e3cc72 button.colab-df-convert');\n",
              "        buttonEl.style.display =\n",
              "          google.colab.kernel.accessAllowed ? 'block' : 'none';\n",
              "\n",
              "        async function convertToInteractive(key) {\n",
              "          const element = document.querySelector('#df-81e6ca11-2d9b-447d-9a99-7c54f4e3cc72');\n",
              "          const dataTable =\n",
              "            await google.colab.kernel.invokeFunction('convertToInteractive',\n",
              "                                                     [key], {});\n",
              "          if (!dataTable) return;\n",
              "\n",
              "          const docLinkHtml = 'Like what you see? Visit the ' +\n",
              "            '<a target=\"_blank\" href=https://colab.research.google.com/notebooks/data_table.ipynb>data table notebook</a>'\n",
              "            + ' to learn more about interactive tables.';\n",
              "          element.innerHTML = '';\n",
              "          dataTable['output_type'] = 'display_data';\n",
              "          await google.colab.output.renderOutput(dataTable, element);\n",
              "          const docLink = document.createElement('div');\n",
              "          docLink.innerHTML = docLinkHtml;\n",
              "          element.appendChild(docLink);\n",
              "        }\n",
              "      </script>\n",
              "    </div>\n",
              "  </div>\n",
              "  "
            ]
          },
          "metadata": {},
          "execution_count": 125
        }
      ]
    },
    {
      "cell_type": "code",
      "source": [
        "data = data.drop_duplicates()\n",
        "data = data.drop(index=[0]).reset_index(drop=True)\n",
        "data.head()\n",
        "data.info()"
      ],
      "metadata": {
        "colab": {
          "base_uri": "https://localhost:8080/"
        },
        "id": "kIDu6RrUAjPZ",
        "outputId": "b09f2932-c3d7-4761-8384-8026dd19cf4c"
      },
      "execution_count": null,
      "outputs": [
        {
          "output_type": "stream",
          "name": "stdout",
          "text": [
            "<class 'pandas.core.frame.DataFrame'>\n",
            "RangeIndex: 5106 entries, 0 to 5105\n",
            "Data columns (total 11 columns):\n",
            " #   Column             Non-Null Count  Dtype \n",
            "---  ------             --------------  ----- \n",
            " 0   gender             5106 non-null   object\n",
            " 1   age                4963 non-null   object\n",
            " 2   hypertension       4903 non-null   object\n",
            " 3   heart_disease      4282 non-null   object\n",
            " 4   ever_married       5106 non-null   object\n",
            " 5   work_type          4773 non-null   object\n",
            " 6   Residence_type     4302 non-null   object\n",
            " 7   avg_glucose_level  4622 non-null   object\n",
            " 8   bmi                4167 non-null   object\n",
            " 9   smoking_status     5106 non-null   object\n",
            " 10  stroke             5106 non-null   object\n",
            "dtypes: object(11)\n",
            "memory usage: 438.9+ KB\n"
          ]
        }
      ]
    },
    {
      "cell_type": "markdown",
      "source": [
        "Не равное колличество Non-Null значений строк - соответствует пропущенным значениям"
      ],
      "metadata": {
        "id": "ku7NiwkaBoi1"
      }
    },
    {
      "cell_type": "code",
      "source": [
        "for i in data.columns:\n",
        "  print(f'{i}:', data[i].value_counts(), sep='\\n', end=2*'\\n')"
      ],
      "metadata": {
        "colab": {
          "base_uri": "https://localhost:8080/"
        },
        "id": "U6vx7FDoHS2s",
        "outputId": "9fe8dd8d-d622-47c4-b5af-a61c03dcffc6"
      },
      "execution_count": null,
      "outputs": [
        {
          "output_type": "stream",
          "name": "stdout",
          "text": [
            "gender:\n",
            "Female    2990\n",
            "Male      2115\n",
            "Other        1\n",
            "Name: gender, dtype: int64\n",
            "\n",
            "age:\n",
            "78.0    99\n",
            "57.0    91\n",
            "52.0    86\n",
            "54.0    83\n",
            "50.0    83\n",
            "        ..\n",
            "0.48     3\n",
            "0.16     3\n",
            "1.4      2\n",
            "0.4      2\n",
            "0.08     2\n",
            "Name: age, Length: 104, dtype: int64\n",
            "\n",
            "hypertension:\n",
            "0.0    4430\n",
            "1.0     473\n",
            "Name: hypertension, dtype: int64\n",
            "\n",
            "heart_disease:\n",
            "0.0    4052\n",
            "1.0     230\n",
            "Name: heart_disease, dtype: int64\n",
            "\n",
            "ever_married:\n",
            "Yes    3350\n",
            "No     1756\n",
            "Name: ever_married, dtype: int64\n",
            "\n",
            "work_type:\n",
            "Private          2726\n",
            "Self-employed     771\n",
            "children          629\n",
            "Govt_job          625\n",
            "Never_worked       22\n",
            "Name: work_type, dtype: int64\n",
            "\n",
            "Residence_type:\n",
            "Urban    2168\n",
            "Rural    2134\n",
            "Name: Residence_type, dtype: int64\n",
            "\n",
            "avg_glucose_level:\n",
            "93.88     6\n",
            "72.49     5\n",
            "73.0      5\n",
            "91.68     5\n",
            "83.16     5\n",
            "         ..\n",
            "94.07     1\n",
            "111.93    1\n",
            "94.4      1\n",
            "95.57     1\n",
            "85.28     1\n",
            "Name: avg_glucose_level, Length: 3682, dtype: int64\n",
            "\n",
            "bmi:\n",
            "28.4    35\n",
            "28.7    35\n",
            "23.4    33\n",
            "26.1    33\n",
            "27.6    32\n",
            "        ..\n",
            "51.8     1\n",
            "13.4     1\n",
            "56.0     1\n",
            "10.3     1\n",
            "47.6     1\n",
            "Name: bmi, Length: 407, dtype: int64\n",
            "\n",
            "smoking_status:\n",
            "never smoked       1892\n",
            "Unknown            1543\n",
            "formerly smoked     885\n",
            "smokes              786\n",
            "Name: smoking_status, dtype: int64\n",
            "\n",
            "stroke:\n",
            "0    4857\n",
            "1     249\n",
            "Name: stroke, dtype: int64\n",
            "\n"
          ]
        }
      ]
    },
    {
      "cell_type": "markdown",
      "source": [
        "переведём категориальные признаки в дискретные(численные) значения"
      ],
      "metadata": {
        "id": "OtFqr-6XJcn2"
      }
    },
    {
      "cell_type": "code",
      "source": [
        "series_encod = data[['gender','hypertension','ever_married','work_type','Residence_type','smoking_status']]\n",
        "df = pd.DataFrame(OrdinalEncoder().fit_transform(series_encod), columns = series_encod.columns)\n",
        "df"
      ],
      "metadata": {
        "colab": {
          "base_uri": "https://localhost:8080/",
          "height": 424
        },
        "id": "HDKe5iQZIL0N",
        "outputId": "903aa363-ce9c-40bb-a847-c32826b2cba1"
      },
      "execution_count": null,
      "outputs": [
        {
          "output_type": "execute_result",
          "data": {
            "text/plain": [
              "      gender  hypertension  ever_married  work_type  Residence_type  \\\n",
              "0        1.0           0.0           1.0        2.0             1.0   \n",
              "1        0.0           0.0           1.0        3.0             0.0   \n",
              "2        1.0           0.0           1.0        2.0             NaN   \n",
              "3        0.0           0.0           1.0        2.0             1.0   \n",
              "4        0.0           1.0           1.0        3.0             0.0   \n",
              "...      ...           ...           ...        ...             ...   \n",
              "5101     0.0           1.0           1.0        2.0             1.0   \n",
              "5102     0.0           0.0           1.0        3.0             1.0   \n",
              "5103     0.0           0.0           1.0        3.0             0.0   \n",
              "5104     1.0           0.0           1.0        2.0             0.0   \n",
              "5105     0.0           0.0           1.0        0.0             NaN   \n",
              "\n",
              "      smoking_status  \n",
              "0                1.0  \n",
              "1                2.0  \n",
              "2                2.0  \n",
              "3                3.0  \n",
              "4                2.0  \n",
              "...              ...  \n",
              "5101             2.0  \n",
              "5102             2.0  \n",
              "5103             2.0  \n",
              "5104             1.0  \n",
              "5105             0.0  \n",
              "\n",
              "[5106 rows x 6 columns]"
            ],
            "text/html": [
              "\n",
              "  <div id=\"df-9c1a05ab-4621-4107-b4d8-4053bbe18b62\">\n",
              "    <div class=\"colab-df-container\">\n",
              "      <div>\n",
              "<style scoped>\n",
              "    .dataframe tbody tr th:only-of-type {\n",
              "        vertical-align: middle;\n",
              "    }\n",
              "\n",
              "    .dataframe tbody tr th {\n",
              "        vertical-align: top;\n",
              "    }\n",
              "\n",
              "    .dataframe thead th {\n",
              "        text-align: right;\n",
              "    }\n",
              "</style>\n",
              "<table border=\"1\" class=\"dataframe\">\n",
              "  <thead>\n",
              "    <tr style=\"text-align: right;\">\n",
              "      <th></th>\n",
              "      <th>gender</th>\n",
              "      <th>hypertension</th>\n",
              "      <th>ever_married</th>\n",
              "      <th>work_type</th>\n",
              "      <th>Residence_type</th>\n",
              "      <th>smoking_status</th>\n",
              "    </tr>\n",
              "  </thead>\n",
              "  <tbody>\n",
              "    <tr>\n",
              "      <th>0</th>\n",
              "      <td>1.0</td>\n",
              "      <td>0.0</td>\n",
              "      <td>1.0</td>\n",
              "      <td>2.0</td>\n",
              "      <td>1.0</td>\n",
              "      <td>1.0</td>\n",
              "    </tr>\n",
              "    <tr>\n",
              "      <th>1</th>\n",
              "      <td>0.0</td>\n",
              "      <td>0.0</td>\n",
              "      <td>1.0</td>\n",
              "      <td>3.0</td>\n",
              "      <td>0.0</td>\n",
              "      <td>2.0</td>\n",
              "    </tr>\n",
              "    <tr>\n",
              "      <th>2</th>\n",
              "      <td>1.0</td>\n",
              "      <td>0.0</td>\n",
              "      <td>1.0</td>\n",
              "      <td>2.0</td>\n",
              "      <td>NaN</td>\n",
              "      <td>2.0</td>\n",
              "    </tr>\n",
              "    <tr>\n",
              "      <th>3</th>\n",
              "      <td>0.0</td>\n",
              "      <td>0.0</td>\n",
              "      <td>1.0</td>\n",
              "      <td>2.0</td>\n",
              "      <td>1.0</td>\n",
              "      <td>3.0</td>\n",
              "    </tr>\n",
              "    <tr>\n",
              "      <th>4</th>\n",
              "      <td>0.0</td>\n",
              "      <td>1.0</td>\n",
              "      <td>1.0</td>\n",
              "      <td>3.0</td>\n",
              "      <td>0.0</td>\n",
              "      <td>2.0</td>\n",
              "    </tr>\n",
              "    <tr>\n",
              "      <th>...</th>\n",
              "      <td>...</td>\n",
              "      <td>...</td>\n",
              "      <td>...</td>\n",
              "      <td>...</td>\n",
              "      <td>...</td>\n",
              "      <td>...</td>\n",
              "    </tr>\n",
              "    <tr>\n",
              "      <th>5101</th>\n",
              "      <td>0.0</td>\n",
              "      <td>1.0</td>\n",
              "      <td>1.0</td>\n",
              "      <td>2.0</td>\n",
              "      <td>1.0</td>\n",
              "      <td>2.0</td>\n",
              "    </tr>\n",
              "    <tr>\n",
              "      <th>5102</th>\n",
              "      <td>0.0</td>\n",
              "      <td>0.0</td>\n",
              "      <td>1.0</td>\n",
              "      <td>3.0</td>\n",
              "      <td>1.0</td>\n",
              "      <td>2.0</td>\n",
              "    </tr>\n",
              "    <tr>\n",
              "      <th>5103</th>\n",
              "      <td>0.0</td>\n",
              "      <td>0.0</td>\n",
              "      <td>1.0</td>\n",
              "      <td>3.0</td>\n",
              "      <td>0.0</td>\n",
              "      <td>2.0</td>\n",
              "    </tr>\n",
              "    <tr>\n",
              "      <th>5104</th>\n",
              "      <td>1.0</td>\n",
              "      <td>0.0</td>\n",
              "      <td>1.0</td>\n",
              "      <td>2.0</td>\n",
              "      <td>0.0</td>\n",
              "      <td>1.0</td>\n",
              "    </tr>\n",
              "    <tr>\n",
              "      <th>5105</th>\n",
              "      <td>0.0</td>\n",
              "      <td>0.0</td>\n",
              "      <td>1.0</td>\n",
              "      <td>0.0</td>\n",
              "      <td>NaN</td>\n",
              "      <td>0.0</td>\n",
              "    </tr>\n",
              "  </tbody>\n",
              "</table>\n",
              "<p>5106 rows × 6 columns</p>\n",
              "</div>\n",
              "      <button class=\"colab-df-convert\" onclick=\"convertToInteractive('df-9c1a05ab-4621-4107-b4d8-4053bbe18b62')\"\n",
              "              title=\"Convert this dataframe to an interactive table.\"\n",
              "              style=\"display:none;\">\n",
              "        \n",
              "  <svg xmlns=\"http://www.w3.org/2000/svg\" height=\"24px\"viewBox=\"0 0 24 24\"\n",
              "       width=\"24px\">\n",
              "    <path d=\"M0 0h24v24H0V0z\" fill=\"none\"/>\n",
              "    <path d=\"M18.56 5.44l.94 2.06.94-2.06 2.06-.94-2.06-.94-.94-2.06-.94 2.06-2.06.94zm-11 1L8.5 8.5l.94-2.06 2.06-.94-2.06-.94L8.5 2.5l-.94 2.06-2.06.94zm10 10l.94 2.06.94-2.06 2.06-.94-2.06-.94-.94-2.06-.94 2.06-2.06.94z\"/><path d=\"M17.41 7.96l-1.37-1.37c-.4-.4-.92-.59-1.43-.59-.52 0-1.04.2-1.43.59L10.3 9.45l-7.72 7.72c-.78.78-.78 2.05 0 2.83L4 21.41c.39.39.9.59 1.41.59.51 0 1.02-.2 1.41-.59l7.78-7.78 2.81-2.81c.8-.78.8-2.07 0-2.86zM5.41 20L4 18.59l7.72-7.72 1.47 1.35L5.41 20z\"/>\n",
              "  </svg>\n",
              "      </button>\n",
              "      \n",
              "  <style>\n",
              "    .colab-df-container {\n",
              "      display:flex;\n",
              "      flex-wrap:wrap;\n",
              "      gap: 12px;\n",
              "    }\n",
              "\n",
              "    .colab-df-convert {\n",
              "      background-color: #E8F0FE;\n",
              "      border: none;\n",
              "      border-radius: 50%;\n",
              "      cursor: pointer;\n",
              "      display: none;\n",
              "      fill: #1967D2;\n",
              "      height: 32px;\n",
              "      padding: 0 0 0 0;\n",
              "      width: 32px;\n",
              "    }\n",
              "\n",
              "    .colab-df-convert:hover {\n",
              "      background-color: #E2EBFA;\n",
              "      box-shadow: 0px 1px 2px rgba(60, 64, 67, 0.3), 0px 1px 3px 1px rgba(60, 64, 67, 0.15);\n",
              "      fill: #174EA6;\n",
              "    }\n",
              "\n",
              "    [theme=dark] .colab-df-convert {\n",
              "      background-color: #3B4455;\n",
              "      fill: #D2E3FC;\n",
              "    }\n",
              "\n",
              "    [theme=dark] .colab-df-convert:hover {\n",
              "      background-color: #434B5C;\n",
              "      box-shadow: 0px 1px 3px 1px rgba(0, 0, 0, 0.15);\n",
              "      filter: drop-shadow(0px 1px 2px rgba(0, 0, 0, 0.3));\n",
              "      fill: #FFFFFF;\n",
              "    }\n",
              "  </style>\n",
              "\n",
              "      <script>\n",
              "        const buttonEl =\n",
              "          document.querySelector('#df-9c1a05ab-4621-4107-b4d8-4053bbe18b62 button.colab-df-convert');\n",
              "        buttonEl.style.display =\n",
              "          google.colab.kernel.accessAllowed ? 'block' : 'none';\n",
              "\n",
              "        async function convertToInteractive(key) {\n",
              "          const element = document.querySelector('#df-9c1a05ab-4621-4107-b4d8-4053bbe18b62');\n",
              "          const dataTable =\n",
              "            await google.colab.kernel.invokeFunction('convertToInteractive',\n",
              "                                                     [key], {});\n",
              "          if (!dataTable) return;\n",
              "\n",
              "          const docLinkHtml = 'Like what you see? Visit the ' +\n",
              "            '<a target=\"_blank\" href=https://colab.research.google.com/notebooks/data_table.ipynb>data table notebook</a>'\n",
              "            + ' to learn more about interactive tables.';\n",
              "          element.innerHTML = '';\n",
              "          dataTable['output_type'] = 'display_data';\n",
              "          await google.colab.output.renderOutput(dataTable, element);\n",
              "          const docLink = document.createElement('div');\n",
              "          docLink.innerHTML = docLinkHtml;\n",
              "          element.appendChild(docLink);\n",
              "        }\n",
              "      </script>\n",
              "    </div>\n",
              "  </div>\n",
              "  "
            ]
          },
          "metadata": {},
          "execution_count": 128
        }
      ]
    },
    {
      "cell_type": "code",
      "source": [
        "col_list = []\n",
        "for i in df.columns:\n",
        "  col_list.append(i)\n"
      ],
      "metadata": {
        "id": "vcM_Cf_UKzgi"
      },
      "execution_count": null,
      "outputs": []
    },
    {
      "cell_type": "code",
      "source": [
        "for i in col_list:\n",
        "  data[i] = df[i]\n",
        "data"
      ],
      "metadata": {
        "colab": {
          "base_uri": "https://localhost:8080/",
          "height": 424
        },
        "id": "_hlEePFTKnfX",
        "outputId": "d13742f6-ca07-4dab-ddbf-bf41ea2d688e"
      },
      "execution_count": null,
      "outputs": [
        {
          "output_type": "execute_result",
          "data": {
            "text/plain": [
              "      gender   age  hypertension heart_disease  ever_married  work_type  \\\n",
              "0        1.0  67.0           0.0           1.0           1.0        2.0   \n",
              "1        0.0  61.0           0.0           0.0           1.0        3.0   \n",
              "2        1.0  80.0           0.0           1.0           1.0        2.0   \n",
              "3        0.0  49.0           0.0           0.0           1.0        2.0   \n",
              "4        0.0  79.0           1.0           0.0           1.0        3.0   \n",
              "...      ...   ...           ...           ...           ...        ...   \n",
              "5101     0.0  80.0           1.0           0.0           1.0        2.0   \n",
              "5102     0.0  81.0           0.0           0.0           1.0        3.0   \n",
              "5103     0.0  35.0           0.0           0.0           1.0        3.0   \n",
              "5104     1.0  51.0           0.0           0.0           1.0        2.0   \n",
              "5105     0.0  44.0           0.0           0.0           1.0        0.0   \n",
              "\n",
              "      Residence_type avg_glucose_level   bmi  smoking_status stroke  \n",
              "0                1.0            228.69   NaN             1.0      1  \n",
              "1                0.0            202.21   NaN             2.0      1  \n",
              "2                NaN            105.92  32.5             2.0      1  \n",
              "3                1.0            171.23  34.4             3.0      1  \n",
              "4                0.0            174.12  24.0             2.0      1  \n",
              "...              ...               ...   ...             ...    ...  \n",
              "5101             1.0             83.75   NaN             2.0      0  \n",
              "5102             1.0             125.2  40.0             2.0      0  \n",
              "5103             0.0             82.99  30.6             2.0      0  \n",
              "5104             0.0            166.29  25.6             1.0      0  \n",
              "5105             NaN             85.28  26.2             0.0      0  \n",
              "\n",
              "[5106 rows x 11 columns]"
            ],
            "text/html": [
              "\n",
              "  <div id=\"df-a329afae-eaaf-48db-a3b2-e6d9c2b011cd\">\n",
              "    <div class=\"colab-df-container\">\n",
              "      <div>\n",
              "<style scoped>\n",
              "    .dataframe tbody tr th:only-of-type {\n",
              "        vertical-align: middle;\n",
              "    }\n",
              "\n",
              "    .dataframe tbody tr th {\n",
              "        vertical-align: top;\n",
              "    }\n",
              "\n",
              "    .dataframe thead th {\n",
              "        text-align: right;\n",
              "    }\n",
              "</style>\n",
              "<table border=\"1\" class=\"dataframe\">\n",
              "  <thead>\n",
              "    <tr style=\"text-align: right;\">\n",
              "      <th></th>\n",
              "      <th>gender</th>\n",
              "      <th>age</th>\n",
              "      <th>hypertension</th>\n",
              "      <th>heart_disease</th>\n",
              "      <th>ever_married</th>\n",
              "      <th>work_type</th>\n",
              "      <th>Residence_type</th>\n",
              "      <th>avg_glucose_level</th>\n",
              "      <th>bmi</th>\n",
              "      <th>smoking_status</th>\n",
              "      <th>stroke</th>\n",
              "    </tr>\n",
              "  </thead>\n",
              "  <tbody>\n",
              "    <tr>\n",
              "      <th>0</th>\n",
              "      <td>1.0</td>\n",
              "      <td>67.0</td>\n",
              "      <td>0.0</td>\n",
              "      <td>1.0</td>\n",
              "      <td>1.0</td>\n",
              "      <td>2.0</td>\n",
              "      <td>1.0</td>\n",
              "      <td>228.69</td>\n",
              "      <td>NaN</td>\n",
              "      <td>1.0</td>\n",
              "      <td>1</td>\n",
              "    </tr>\n",
              "    <tr>\n",
              "      <th>1</th>\n",
              "      <td>0.0</td>\n",
              "      <td>61.0</td>\n",
              "      <td>0.0</td>\n",
              "      <td>0.0</td>\n",
              "      <td>1.0</td>\n",
              "      <td>3.0</td>\n",
              "      <td>0.0</td>\n",
              "      <td>202.21</td>\n",
              "      <td>NaN</td>\n",
              "      <td>2.0</td>\n",
              "      <td>1</td>\n",
              "    </tr>\n",
              "    <tr>\n",
              "      <th>2</th>\n",
              "      <td>1.0</td>\n",
              "      <td>80.0</td>\n",
              "      <td>0.0</td>\n",
              "      <td>1.0</td>\n",
              "      <td>1.0</td>\n",
              "      <td>2.0</td>\n",
              "      <td>NaN</td>\n",
              "      <td>105.92</td>\n",
              "      <td>32.5</td>\n",
              "      <td>2.0</td>\n",
              "      <td>1</td>\n",
              "    </tr>\n",
              "    <tr>\n",
              "      <th>3</th>\n",
              "      <td>0.0</td>\n",
              "      <td>49.0</td>\n",
              "      <td>0.0</td>\n",
              "      <td>0.0</td>\n",
              "      <td>1.0</td>\n",
              "      <td>2.0</td>\n",
              "      <td>1.0</td>\n",
              "      <td>171.23</td>\n",
              "      <td>34.4</td>\n",
              "      <td>3.0</td>\n",
              "      <td>1</td>\n",
              "    </tr>\n",
              "    <tr>\n",
              "      <th>4</th>\n",
              "      <td>0.0</td>\n",
              "      <td>79.0</td>\n",
              "      <td>1.0</td>\n",
              "      <td>0.0</td>\n",
              "      <td>1.0</td>\n",
              "      <td>3.0</td>\n",
              "      <td>0.0</td>\n",
              "      <td>174.12</td>\n",
              "      <td>24.0</td>\n",
              "      <td>2.0</td>\n",
              "      <td>1</td>\n",
              "    </tr>\n",
              "    <tr>\n",
              "      <th>...</th>\n",
              "      <td>...</td>\n",
              "      <td>...</td>\n",
              "      <td>...</td>\n",
              "      <td>...</td>\n",
              "      <td>...</td>\n",
              "      <td>...</td>\n",
              "      <td>...</td>\n",
              "      <td>...</td>\n",
              "      <td>...</td>\n",
              "      <td>...</td>\n",
              "      <td>...</td>\n",
              "    </tr>\n",
              "    <tr>\n",
              "      <th>5101</th>\n",
              "      <td>0.0</td>\n",
              "      <td>80.0</td>\n",
              "      <td>1.0</td>\n",
              "      <td>0.0</td>\n",
              "      <td>1.0</td>\n",
              "      <td>2.0</td>\n",
              "      <td>1.0</td>\n",
              "      <td>83.75</td>\n",
              "      <td>NaN</td>\n",
              "      <td>2.0</td>\n",
              "      <td>0</td>\n",
              "    </tr>\n",
              "    <tr>\n",
              "      <th>5102</th>\n",
              "      <td>0.0</td>\n",
              "      <td>81.0</td>\n",
              "      <td>0.0</td>\n",
              "      <td>0.0</td>\n",
              "      <td>1.0</td>\n",
              "      <td>3.0</td>\n",
              "      <td>1.0</td>\n",
              "      <td>125.2</td>\n",
              "      <td>40.0</td>\n",
              "      <td>2.0</td>\n",
              "      <td>0</td>\n",
              "    </tr>\n",
              "    <tr>\n",
              "      <th>5103</th>\n",
              "      <td>0.0</td>\n",
              "      <td>35.0</td>\n",
              "      <td>0.0</td>\n",
              "      <td>0.0</td>\n",
              "      <td>1.0</td>\n",
              "      <td>3.0</td>\n",
              "      <td>0.0</td>\n",
              "      <td>82.99</td>\n",
              "      <td>30.6</td>\n",
              "      <td>2.0</td>\n",
              "      <td>0</td>\n",
              "    </tr>\n",
              "    <tr>\n",
              "      <th>5104</th>\n",
              "      <td>1.0</td>\n",
              "      <td>51.0</td>\n",
              "      <td>0.0</td>\n",
              "      <td>0.0</td>\n",
              "      <td>1.0</td>\n",
              "      <td>2.0</td>\n",
              "      <td>0.0</td>\n",
              "      <td>166.29</td>\n",
              "      <td>25.6</td>\n",
              "      <td>1.0</td>\n",
              "      <td>0</td>\n",
              "    </tr>\n",
              "    <tr>\n",
              "      <th>5105</th>\n",
              "      <td>0.0</td>\n",
              "      <td>44.0</td>\n",
              "      <td>0.0</td>\n",
              "      <td>0.0</td>\n",
              "      <td>1.0</td>\n",
              "      <td>0.0</td>\n",
              "      <td>NaN</td>\n",
              "      <td>85.28</td>\n",
              "      <td>26.2</td>\n",
              "      <td>0.0</td>\n",
              "      <td>0</td>\n",
              "    </tr>\n",
              "  </tbody>\n",
              "</table>\n",
              "<p>5106 rows × 11 columns</p>\n",
              "</div>\n",
              "      <button class=\"colab-df-convert\" onclick=\"convertToInteractive('df-a329afae-eaaf-48db-a3b2-e6d9c2b011cd')\"\n",
              "              title=\"Convert this dataframe to an interactive table.\"\n",
              "              style=\"display:none;\">\n",
              "        \n",
              "  <svg xmlns=\"http://www.w3.org/2000/svg\" height=\"24px\"viewBox=\"0 0 24 24\"\n",
              "       width=\"24px\">\n",
              "    <path d=\"M0 0h24v24H0V0z\" fill=\"none\"/>\n",
              "    <path d=\"M18.56 5.44l.94 2.06.94-2.06 2.06-.94-2.06-.94-.94-2.06-.94 2.06-2.06.94zm-11 1L8.5 8.5l.94-2.06 2.06-.94-2.06-.94L8.5 2.5l-.94 2.06-2.06.94zm10 10l.94 2.06.94-2.06 2.06-.94-2.06-.94-.94-2.06-.94 2.06-2.06.94z\"/><path d=\"M17.41 7.96l-1.37-1.37c-.4-.4-.92-.59-1.43-.59-.52 0-1.04.2-1.43.59L10.3 9.45l-7.72 7.72c-.78.78-.78 2.05 0 2.83L4 21.41c.39.39.9.59 1.41.59.51 0 1.02-.2 1.41-.59l7.78-7.78 2.81-2.81c.8-.78.8-2.07 0-2.86zM5.41 20L4 18.59l7.72-7.72 1.47 1.35L5.41 20z\"/>\n",
              "  </svg>\n",
              "      </button>\n",
              "      \n",
              "  <style>\n",
              "    .colab-df-container {\n",
              "      display:flex;\n",
              "      flex-wrap:wrap;\n",
              "      gap: 12px;\n",
              "    }\n",
              "\n",
              "    .colab-df-convert {\n",
              "      background-color: #E8F0FE;\n",
              "      border: none;\n",
              "      border-radius: 50%;\n",
              "      cursor: pointer;\n",
              "      display: none;\n",
              "      fill: #1967D2;\n",
              "      height: 32px;\n",
              "      padding: 0 0 0 0;\n",
              "      width: 32px;\n",
              "    }\n",
              "\n",
              "    .colab-df-convert:hover {\n",
              "      background-color: #E2EBFA;\n",
              "      box-shadow: 0px 1px 2px rgba(60, 64, 67, 0.3), 0px 1px 3px 1px rgba(60, 64, 67, 0.15);\n",
              "      fill: #174EA6;\n",
              "    }\n",
              "\n",
              "    [theme=dark] .colab-df-convert {\n",
              "      background-color: #3B4455;\n",
              "      fill: #D2E3FC;\n",
              "    }\n",
              "\n",
              "    [theme=dark] .colab-df-convert:hover {\n",
              "      background-color: #434B5C;\n",
              "      box-shadow: 0px 1px 3px 1px rgba(0, 0, 0, 0.15);\n",
              "      filter: drop-shadow(0px 1px 2px rgba(0, 0, 0, 0.3));\n",
              "      fill: #FFFFFF;\n",
              "    }\n",
              "  </style>\n",
              "\n",
              "      <script>\n",
              "        const buttonEl =\n",
              "          document.querySelector('#df-a329afae-eaaf-48db-a3b2-e6d9c2b011cd button.colab-df-convert');\n",
              "        buttonEl.style.display =\n",
              "          google.colab.kernel.accessAllowed ? 'block' : 'none';\n",
              "\n",
              "        async function convertToInteractive(key) {\n",
              "          const element = document.querySelector('#df-a329afae-eaaf-48db-a3b2-e6d9c2b011cd');\n",
              "          const dataTable =\n",
              "            await google.colab.kernel.invokeFunction('convertToInteractive',\n",
              "                                                     [key], {});\n",
              "          if (!dataTable) return;\n",
              "\n",
              "          const docLinkHtml = 'Like what you see? Visit the ' +\n",
              "            '<a target=\"_blank\" href=https://colab.research.google.com/notebooks/data_table.ipynb>data table notebook</a>'\n",
              "            + ' to learn more about interactive tables.';\n",
              "          element.innerHTML = '';\n",
              "          dataTable['output_type'] = 'display_data';\n",
              "          await google.colab.output.renderOutput(dataTable, element);\n",
              "          const docLink = document.createElement('div');\n",
              "          docLink.innerHTML = docLinkHtml;\n",
              "          element.appendChild(docLink);\n",
              "        }\n",
              "      </script>\n",
              "    </div>\n",
              "  </div>\n",
              "  "
            ]
          },
          "metadata": {},
          "execution_count": 130
        }
      ]
    },
    {
      "cell_type": "markdown",
      "source": [
        "Изменим тип данныых на float"
      ],
      "metadata": {
        "id": "lZw2Wpc4ZAyg"
      }
    },
    {
      "cell_type": "code",
      "source": [
        "data = data.astype(np.float)"
      ],
      "metadata": {
        "colab": {
          "base_uri": "https://localhost:8080/"
        },
        "id": "4IGvs4FSZALy",
        "outputId": "01ad9446-c9e1-484b-ead6-ea5364dfb6d6"
      },
      "execution_count": null,
      "outputs": [
        {
          "output_type": "stream",
          "name": "stderr",
          "text": [
            "<ipython-input-131-bd93a00e21b0>:1: DeprecationWarning: `np.float` is a deprecated alias for the builtin `float`. To silence this warning, use `float` by itself. Doing this will not modify any behavior and is safe. If you specifically wanted the numpy scalar type, use `np.float64` here.\n",
            "Deprecated in NumPy 1.20; for more details and guidance: https://numpy.org/devdocs/release/1.20.0-notes.html#deprecations\n",
            "  data = data.astype(np.float)\n"
          ]
        }
      ]
    },
    {
      "cell_type": "code",
      "source": [
        "data.info()"
      ],
      "metadata": {
        "colab": {
          "base_uri": "https://localhost:8080/"
        },
        "id": "JwFlbtnSZNvc",
        "outputId": "46c9c5da-e170-407c-e11b-9a9d83623882"
      },
      "execution_count": null,
      "outputs": [
        {
          "output_type": "stream",
          "name": "stdout",
          "text": [
            "<class 'pandas.core.frame.DataFrame'>\n",
            "RangeIndex: 5106 entries, 0 to 5105\n",
            "Data columns (total 11 columns):\n",
            " #   Column             Non-Null Count  Dtype  \n",
            "---  ------             --------------  -----  \n",
            " 0   gender             5106 non-null   float64\n",
            " 1   age                4963 non-null   float64\n",
            " 2   hypertension       4903 non-null   float64\n",
            " 3   heart_disease      4282 non-null   float64\n",
            " 4   ever_married       5106 non-null   float64\n",
            " 5   work_type          4773 non-null   float64\n",
            " 6   Residence_type     4302 non-null   float64\n",
            " 7   avg_glucose_level  4622 non-null   float64\n",
            " 8   bmi                4167 non-null   float64\n",
            " 9   smoking_status     5106 non-null   float64\n",
            " 10  stroke             5106 non-null   float64\n",
            "dtypes: float64(11)\n",
            "memory usage: 438.9 KB\n"
          ]
        }
      ]
    },
    {
      "cell_type": "code",
      "source": [
        "colum = []\n",
        "col_list = []\n",
        "for i in data.columns:\n",
        "  colum.append(i)\n",
        "colum"
      ],
      "metadata": {
        "colab": {
          "base_uri": "https://localhost:8080/"
        },
        "id": "a2m3SdS8ZVtN",
        "outputId": "3fbe71fc-3230-4a05-9134-43616634323a"
      },
      "execution_count": null,
      "outputs": [
        {
          "output_type": "execute_result",
          "data": {
            "text/plain": [
              "['gender',\n",
              " 'age',\n",
              " 'hypertension',\n",
              " 'heart_disease',\n",
              " 'ever_married',\n",
              " 'work_type',\n",
              " 'Residence_type',\n",
              " 'avg_glucose_level',\n",
              " 'bmi',\n",
              " 'smoking_status',\n",
              " 'stroke']"
            ]
          },
          "metadata": {},
          "execution_count": 133
        }
      ]
    },
    {
      "cell_type": "markdown",
      "source": [
        "Заменим пропущенные значения на среднее"
      ],
      "metadata": {
        "id": "LTB7G3rKZ-EU"
      }
    },
    {
      "cell_type": "code",
      "source": [
        "mean1 = data['gender'].mean()\n",
        "print(mean1)\n",
        "print(mean1.round(2))"
      ],
      "metadata": {
        "colab": {
          "base_uri": "https://localhost:8080/"
        },
        "id": "U3sEWeFjaFmJ",
        "outputId": "03dca30b-ce7a-4a23-852c-fe58d68da7ee"
      },
      "execution_count": null,
      "outputs": [
        {
          "output_type": "stream",
          "name": "stdout",
          "text": [
            "0.4146102624363494\n",
            "0.41\n"
          ]
        }
      ]
    },
    {
      "cell_type": "code",
      "source": [
        "for i in colum:\n",
        "  mean = data[i].mean()\n",
        "  data[i] = data[i].fillna(value=mean1.round(2))\n",
        "data"
      ],
      "metadata": {
        "colab": {
          "base_uri": "https://localhost:8080/",
          "height": 424
        },
        "id": "-ryJgD7wZl-s",
        "outputId": "e976173b-a2c9-41af-bc8c-f2fe07594b86"
      },
      "execution_count": null,
      "outputs": [
        {
          "output_type": "execute_result",
          "data": {
            "text/plain": [
              "      gender   age  hypertension  heart_disease  ever_married  work_type  \\\n",
              "0        1.0  67.0           0.0            1.0           1.0        2.0   \n",
              "1        0.0  61.0           0.0            0.0           1.0        3.0   \n",
              "2        1.0  80.0           0.0            1.0           1.0        2.0   \n",
              "3        0.0  49.0           0.0            0.0           1.0        2.0   \n",
              "4        0.0  79.0           1.0            0.0           1.0        3.0   \n",
              "...      ...   ...           ...            ...           ...        ...   \n",
              "5101     0.0  80.0           1.0            0.0           1.0        2.0   \n",
              "5102     0.0  81.0           0.0            0.0           1.0        3.0   \n",
              "5103     0.0  35.0           0.0            0.0           1.0        3.0   \n",
              "5104     1.0  51.0           0.0            0.0           1.0        2.0   \n",
              "5105     0.0  44.0           0.0            0.0           1.0        0.0   \n",
              "\n",
              "      Residence_type  avg_glucose_level    bmi  smoking_status  stroke  \n",
              "0               1.00             228.69   0.41             1.0     1.0  \n",
              "1               0.00             202.21   0.41             2.0     1.0  \n",
              "2               0.41             105.92  32.50             2.0     1.0  \n",
              "3               1.00             171.23  34.40             3.0     1.0  \n",
              "4               0.00             174.12  24.00             2.0     1.0  \n",
              "...              ...                ...    ...             ...     ...  \n",
              "5101            1.00              83.75   0.41             2.0     0.0  \n",
              "5102            1.00             125.20  40.00             2.0     0.0  \n",
              "5103            0.00              82.99  30.60             2.0     0.0  \n",
              "5104            0.00             166.29  25.60             1.0     0.0  \n",
              "5105            0.41              85.28  26.20             0.0     0.0  \n",
              "\n",
              "[5106 rows x 11 columns]"
            ],
            "text/html": [
              "\n",
              "  <div id=\"df-173f14b3-6ce0-4c2e-a980-272eed5a9721\">\n",
              "    <div class=\"colab-df-container\">\n",
              "      <div>\n",
              "<style scoped>\n",
              "    .dataframe tbody tr th:only-of-type {\n",
              "        vertical-align: middle;\n",
              "    }\n",
              "\n",
              "    .dataframe tbody tr th {\n",
              "        vertical-align: top;\n",
              "    }\n",
              "\n",
              "    .dataframe thead th {\n",
              "        text-align: right;\n",
              "    }\n",
              "</style>\n",
              "<table border=\"1\" class=\"dataframe\">\n",
              "  <thead>\n",
              "    <tr style=\"text-align: right;\">\n",
              "      <th></th>\n",
              "      <th>gender</th>\n",
              "      <th>age</th>\n",
              "      <th>hypertension</th>\n",
              "      <th>heart_disease</th>\n",
              "      <th>ever_married</th>\n",
              "      <th>work_type</th>\n",
              "      <th>Residence_type</th>\n",
              "      <th>avg_glucose_level</th>\n",
              "      <th>bmi</th>\n",
              "      <th>smoking_status</th>\n",
              "      <th>stroke</th>\n",
              "    </tr>\n",
              "  </thead>\n",
              "  <tbody>\n",
              "    <tr>\n",
              "      <th>0</th>\n",
              "      <td>1.0</td>\n",
              "      <td>67.0</td>\n",
              "      <td>0.0</td>\n",
              "      <td>1.0</td>\n",
              "      <td>1.0</td>\n",
              "      <td>2.0</td>\n",
              "      <td>1.00</td>\n",
              "      <td>228.69</td>\n",
              "      <td>0.41</td>\n",
              "      <td>1.0</td>\n",
              "      <td>1.0</td>\n",
              "    </tr>\n",
              "    <tr>\n",
              "      <th>1</th>\n",
              "      <td>0.0</td>\n",
              "      <td>61.0</td>\n",
              "      <td>0.0</td>\n",
              "      <td>0.0</td>\n",
              "      <td>1.0</td>\n",
              "      <td>3.0</td>\n",
              "      <td>0.00</td>\n",
              "      <td>202.21</td>\n",
              "      <td>0.41</td>\n",
              "      <td>2.0</td>\n",
              "      <td>1.0</td>\n",
              "    </tr>\n",
              "    <tr>\n",
              "      <th>2</th>\n",
              "      <td>1.0</td>\n",
              "      <td>80.0</td>\n",
              "      <td>0.0</td>\n",
              "      <td>1.0</td>\n",
              "      <td>1.0</td>\n",
              "      <td>2.0</td>\n",
              "      <td>0.41</td>\n",
              "      <td>105.92</td>\n",
              "      <td>32.50</td>\n",
              "      <td>2.0</td>\n",
              "      <td>1.0</td>\n",
              "    </tr>\n",
              "    <tr>\n",
              "      <th>3</th>\n",
              "      <td>0.0</td>\n",
              "      <td>49.0</td>\n",
              "      <td>0.0</td>\n",
              "      <td>0.0</td>\n",
              "      <td>1.0</td>\n",
              "      <td>2.0</td>\n",
              "      <td>1.00</td>\n",
              "      <td>171.23</td>\n",
              "      <td>34.40</td>\n",
              "      <td>3.0</td>\n",
              "      <td>1.0</td>\n",
              "    </tr>\n",
              "    <tr>\n",
              "      <th>4</th>\n",
              "      <td>0.0</td>\n",
              "      <td>79.0</td>\n",
              "      <td>1.0</td>\n",
              "      <td>0.0</td>\n",
              "      <td>1.0</td>\n",
              "      <td>3.0</td>\n",
              "      <td>0.00</td>\n",
              "      <td>174.12</td>\n",
              "      <td>24.00</td>\n",
              "      <td>2.0</td>\n",
              "      <td>1.0</td>\n",
              "    </tr>\n",
              "    <tr>\n",
              "      <th>...</th>\n",
              "      <td>...</td>\n",
              "      <td>...</td>\n",
              "      <td>...</td>\n",
              "      <td>...</td>\n",
              "      <td>...</td>\n",
              "      <td>...</td>\n",
              "      <td>...</td>\n",
              "      <td>...</td>\n",
              "      <td>...</td>\n",
              "      <td>...</td>\n",
              "      <td>...</td>\n",
              "    </tr>\n",
              "    <tr>\n",
              "      <th>5101</th>\n",
              "      <td>0.0</td>\n",
              "      <td>80.0</td>\n",
              "      <td>1.0</td>\n",
              "      <td>0.0</td>\n",
              "      <td>1.0</td>\n",
              "      <td>2.0</td>\n",
              "      <td>1.00</td>\n",
              "      <td>83.75</td>\n",
              "      <td>0.41</td>\n",
              "      <td>2.0</td>\n",
              "      <td>0.0</td>\n",
              "    </tr>\n",
              "    <tr>\n",
              "      <th>5102</th>\n",
              "      <td>0.0</td>\n",
              "      <td>81.0</td>\n",
              "      <td>0.0</td>\n",
              "      <td>0.0</td>\n",
              "      <td>1.0</td>\n",
              "      <td>3.0</td>\n",
              "      <td>1.00</td>\n",
              "      <td>125.20</td>\n",
              "      <td>40.00</td>\n",
              "      <td>2.0</td>\n",
              "      <td>0.0</td>\n",
              "    </tr>\n",
              "    <tr>\n",
              "      <th>5103</th>\n",
              "      <td>0.0</td>\n",
              "      <td>35.0</td>\n",
              "      <td>0.0</td>\n",
              "      <td>0.0</td>\n",
              "      <td>1.0</td>\n",
              "      <td>3.0</td>\n",
              "      <td>0.00</td>\n",
              "      <td>82.99</td>\n",
              "      <td>30.60</td>\n",
              "      <td>2.0</td>\n",
              "      <td>0.0</td>\n",
              "    </tr>\n",
              "    <tr>\n",
              "      <th>5104</th>\n",
              "      <td>1.0</td>\n",
              "      <td>51.0</td>\n",
              "      <td>0.0</td>\n",
              "      <td>0.0</td>\n",
              "      <td>1.0</td>\n",
              "      <td>2.0</td>\n",
              "      <td>0.00</td>\n",
              "      <td>166.29</td>\n",
              "      <td>25.60</td>\n",
              "      <td>1.0</td>\n",
              "      <td>0.0</td>\n",
              "    </tr>\n",
              "    <tr>\n",
              "      <th>5105</th>\n",
              "      <td>0.0</td>\n",
              "      <td>44.0</td>\n",
              "      <td>0.0</td>\n",
              "      <td>0.0</td>\n",
              "      <td>1.0</td>\n",
              "      <td>0.0</td>\n",
              "      <td>0.41</td>\n",
              "      <td>85.28</td>\n",
              "      <td>26.20</td>\n",
              "      <td>0.0</td>\n",
              "      <td>0.0</td>\n",
              "    </tr>\n",
              "  </tbody>\n",
              "</table>\n",
              "<p>5106 rows × 11 columns</p>\n",
              "</div>\n",
              "      <button class=\"colab-df-convert\" onclick=\"convertToInteractive('df-173f14b3-6ce0-4c2e-a980-272eed5a9721')\"\n",
              "              title=\"Convert this dataframe to an interactive table.\"\n",
              "              style=\"display:none;\">\n",
              "        \n",
              "  <svg xmlns=\"http://www.w3.org/2000/svg\" height=\"24px\"viewBox=\"0 0 24 24\"\n",
              "       width=\"24px\">\n",
              "    <path d=\"M0 0h24v24H0V0z\" fill=\"none\"/>\n",
              "    <path d=\"M18.56 5.44l.94 2.06.94-2.06 2.06-.94-2.06-.94-.94-2.06-.94 2.06-2.06.94zm-11 1L8.5 8.5l.94-2.06 2.06-.94-2.06-.94L8.5 2.5l-.94 2.06-2.06.94zm10 10l.94 2.06.94-2.06 2.06-.94-2.06-.94-.94-2.06-.94 2.06-2.06.94z\"/><path d=\"M17.41 7.96l-1.37-1.37c-.4-.4-.92-.59-1.43-.59-.52 0-1.04.2-1.43.59L10.3 9.45l-7.72 7.72c-.78.78-.78 2.05 0 2.83L4 21.41c.39.39.9.59 1.41.59.51 0 1.02-.2 1.41-.59l7.78-7.78 2.81-2.81c.8-.78.8-2.07 0-2.86zM5.41 20L4 18.59l7.72-7.72 1.47 1.35L5.41 20z\"/>\n",
              "  </svg>\n",
              "      </button>\n",
              "      \n",
              "  <style>\n",
              "    .colab-df-container {\n",
              "      display:flex;\n",
              "      flex-wrap:wrap;\n",
              "      gap: 12px;\n",
              "    }\n",
              "\n",
              "    .colab-df-convert {\n",
              "      background-color: #E8F0FE;\n",
              "      border: none;\n",
              "      border-radius: 50%;\n",
              "      cursor: pointer;\n",
              "      display: none;\n",
              "      fill: #1967D2;\n",
              "      height: 32px;\n",
              "      padding: 0 0 0 0;\n",
              "      width: 32px;\n",
              "    }\n",
              "\n",
              "    .colab-df-convert:hover {\n",
              "      background-color: #E2EBFA;\n",
              "      box-shadow: 0px 1px 2px rgba(60, 64, 67, 0.3), 0px 1px 3px 1px rgba(60, 64, 67, 0.15);\n",
              "      fill: #174EA6;\n",
              "    }\n",
              "\n",
              "    [theme=dark] .colab-df-convert {\n",
              "      background-color: #3B4455;\n",
              "      fill: #D2E3FC;\n",
              "    }\n",
              "\n",
              "    [theme=dark] .colab-df-convert:hover {\n",
              "      background-color: #434B5C;\n",
              "      box-shadow: 0px 1px 3px 1px rgba(0, 0, 0, 0.15);\n",
              "      filter: drop-shadow(0px 1px 2px rgba(0, 0, 0, 0.3));\n",
              "      fill: #FFFFFF;\n",
              "    }\n",
              "  </style>\n",
              "\n",
              "      <script>\n",
              "        const buttonEl =\n",
              "          document.querySelector('#df-173f14b3-6ce0-4c2e-a980-272eed5a9721 button.colab-df-convert');\n",
              "        buttonEl.style.display =\n",
              "          google.colab.kernel.accessAllowed ? 'block' : 'none';\n",
              "\n",
              "        async function convertToInteractive(key) {\n",
              "          const element = document.querySelector('#df-173f14b3-6ce0-4c2e-a980-272eed5a9721');\n",
              "          const dataTable =\n",
              "            await google.colab.kernel.invokeFunction('convertToInteractive',\n",
              "                                                     [key], {});\n",
              "          if (!dataTable) return;\n",
              "\n",
              "          const docLinkHtml = 'Like what you see? Visit the ' +\n",
              "            '<a target=\"_blank\" href=https://colab.research.google.com/notebooks/data_table.ipynb>data table notebook</a>'\n",
              "            + ' to learn more about interactive tables.';\n",
              "          element.innerHTML = '';\n",
              "          dataTable['output_type'] = 'display_data';\n",
              "          await google.colab.output.renderOutput(dataTable, element);\n",
              "          const docLink = document.createElement('div');\n",
              "          docLink.innerHTML = docLinkHtml;\n",
              "          element.appendChild(docLink);\n",
              "        }\n",
              "      </script>\n",
              "    </div>\n",
              "  </div>\n",
              "  "
            ]
          },
          "metadata": {},
          "execution_count": 135
        }
      ]
    },
    {
      "cell_type": "markdown",
      "source": [
        "# №2 Построить baseline-модель, попытаться выбить лучший скор (сравнить несколько моделей)"
      ],
      "metadata": {
        "id": "4DwAi_HSQju7"
      }
    },
    {
      "cell_type": "code",
      "source": [
        "from sklearn.metrics import f1_score, precision_score, recall_score, accuracy_score\n",
        "from sklearn.model_selection import train_test_split\n",
        "from sklearn.model_selection import GridSearchCV, cross_val_score\n",
        "\n",
        "from sklearn.preprocessing import StandardScaler"
      ],
      "metadata": {
        "id": "sFIhMtWsQqy7"
      },
      "execution_count": null,
      "outputs": []
    },
    {
      "cell_type": "code",
      "source": [
        "from sklearn.linear_model import LogisticRegression\n",
        "from sklearn.ensemble import RandomForestClassifier\n",
        "from sklearn.ensemble import AdaBoostClassifier\n",
        "from sklearn.ensemble import GradientBoostingClassifier\n",
        "from sklearn.linear_model import SGDClassifier"
      ],
      "metadata": {
        "id": "foB2YcJut2Bq"
      },
      "execution_count": null,
      "outputs": []
    },
    {
      "cell_type": "code",
      "source": [
        "features_ohe = pd.get_dummies(data.drop(labels=['stroke'],axis=1))\n",
        "target = data['stroke']"
      ],
      "metadata": {
        "id": "KHeXmsPmXMj1"
      },
      "execution_count": null,
      "outputs": []
    },
    {
      "cell_type": "code",
      "source": [
        "feat_train, feat_test, target_train, target_test = train_test_split(\n",
        "    features_ohe, target, test_size=0.2, random_state=42)"
      ],
      "metadata": {
        "id": "D8fk70pWRuBU"
      },
      "execution_count": null,
      "outputs": []
    },
    {
      "cell_type": "markdown",
      "source": [
        "## Random Forest - работат долго"
      ],
      "metadata": {
        "id": "xJrCCx7WtvL2"
      }
    },
    {
      "cell_type": "code",
      "source": [
        "forest_params = {\"n_estimators\": [75, 100, 110], \"criterion\": [\"gini\", \"entropy\"], \n",
        "              \"max_depth\": [2, 4, 6, 8], \"min_samples_split\": [2, 3, 4], 'max_features': [2, 4, 6, 8]}\n",
        "random_forest = RandomForestClassifier(random_state=42)\n",
        "grid_forest_clf = GridSearchCV(random_forest, forest_params, error_score='raise')\n",
        "grid_forest_clf.fit(feat_train, target_train)"
      ],
      "metadata": {
        "colab": {
          "base_uri": "https://localhost:8080/"
        },
        "id": "44KrZHXybLQx",
        "outputId": "a63c2fc0-4988-4b8a-fb6d-76f90dc4caf0"
      },
      "execution_count": null,
      "outputs": [
        {
          "output_type": "execute_result",
          "data": {
            "text/plain": [
              "GridSearchCV(error_score='raise',\n",
              "             estimator=RandomForestClassifier(random_state=42),\n",
              "             param_grid={'criterion': ['gini', 'entropy'],\n",
              "                         'max_depth': [2, 4, 6, 8],\n",
              "                         'max_features': [2, 4, 6, 8],\n",
              "                         'min_samples_split': [2, 3, 4],\n",
              "                         'n_estimators': [75, 100, 110]})"
            ]
          },
          "metadata": {},
          "execution_count": 140
        }
      ]
    },
    {
      "cell_type": "code",
      "source": [
        "grid_forest_clf.best_params_"
      ],
      "metadata": {
        "colab": {
          "base_uri": "https://localhost:8080/"
        },
        "id": "VcnOE__DuBty",
        "outputId": "9f62457e-4990-4226-88e0-bb8604596109"
      },
      "execution_count": null,
      "outputs": [
        {
          "output_type": "execute_result",
          "data": {
            "text/plain": [
              "{'criterion': 'entropy',\n",
              " 'max_depth': 8,\n",
              " 'max_features': 4,\n",
              " 'min_samples_split': 2,\n",
              " 'n_estimators': 100}"
            ]
          },
          "metadata": {},
          "execution_count": 141
        }
      ]
    },
    {
      "cell_type": "code",
      "source": [
        "pred_grid = grid_forest_clf.predict(feat_test)\n",
        "f_1_grid = f1_score(target_test, pred_grid, average='weighted', labels=np.unique(pred_grid))\n",
        "precision_grid = precision_score(target_test, pred_grid, average='weighted', labels=np.unique(pred_grid))\n",
        "recall_grid = recall_score(target_test, pred_grid, average='weighted', labels=np.unique(pred_grid))\n",
        "accuracy_grid = accuracy_score(target_test, pred_grid)\n",
        "\n",
        "print('Значение F1 = {}, значение precision = {}, значение recall = {}, значение accuracy = {}'.format(round(f_1_grid, 5), \n",
        "                                                                                                       round(precision_grid, 5), \n",
        "                                                                                                       round(recall_grid, 5), \n",
        "                                                                                                       round(accuracy_grid, 5)))"
      ],
      "metadata": {
        "colab": {
          "base_uri": "https://localhost:8080/"
        },
        "id": "zBFehH6puuDQ",
        "outputId": "48492c61-ca53-4eb1-a07d-aae32f041785"
      },
      "execution_count": null,
      "outputs": [
        {
          "output_type": "stream",
          "name": "stdout",
          "text": [
            "Значение F1 = 0.90946, значение precision = 0.88229, значение recall = 0.93836, значение accuracy = 0.93836\n"
          ]
        }
      ]
    },
    {
      "cell_type": "markdown",
      "source": [
        "## AdaBoost"
      ],
      "metadata": {
        "id": "S3I1usnFvNOu"
      }
    },
    {
      "cell_type": "code",
      "source": [
        "ada_params = {\"n_estimators\": range(1,25), \"learning_rate\": [0.01, 0.1, 0.5, 1], \n",
        "              \"algorithm\": [\"SAMME\", \"SAMME.R\"]}\n",
        "ada = AdaBoostClassifier(random_state=42)\n",
        "grid_ada_clf = GridSearchCV(ada, ada_params, error_score='raise')\n",
        "grid_ada_clf.fit(feat_train, target_train)"
      ],
      "metadata": {
        "colab": {
          "base_uri": "https://localhost:8080/"
        },
        "id": "ycx7LCMfvRyu",
        "outputId": "b62235d0-7460-46c3-d230-4653f4c5ed16"
      },
      "execution_count": null,
      "outputs": [
        {
          "output_type": "execute_result",
          "data": {
            "text/plain": [
              "GridSearchCV(error_score='raise', estimator=AdaBoostClassifier(random_state=42),\n",
              "             param_grid={'algorithm': ['SAMME', 'SAMME.R'],\n",
              "                         'learning_rate': [0.01, 0.1, 0.5, 1],\n",
              "                         'n_estimators': range(1, 25)})"
            ]
          },
          "metadata": {},
          "execution_count": 143
        }
      ]
    },
    {
      "cell_type": "code",
      "source": [
        "grid_ada_clf.best_params_"
      ],
      "metadata": {
        "colab": {
          "base_uri": "https://localhost:8080/"
        },
        "id": "zNtv4x4Sv3Aa",
        "outputId": "310f9642-eee1-4e5a-8d00-3c277f7e0a4e"
      },
      "execution_count": null,
      "outputs": [
        {
          "output_type": "execute_result",
          "data": {
            "text/plain": [
              "{'algorithm': 'SAMME.R', 'learning_rate': 1, 'n_estimators': 13}"
            ]
          },
          "metadata": {},
          "execution_count": 144
        }
      ]
    },
    {
      "cell_type": "code",
      "source": [
        "pred_grid = grid_ada_clf.predict(feat_test)\n",
        "f_1_grid = f1_score(target_test, pred_grid, average='weighted', labels=np.unique(pred_grid))\n",
        "precision_grid = precision_score(target_test, pred_grid, average='weighted', labels=np.unique(pred_grid))\n",
        "recall_grid = recall_score(target_test, pred_grid, average='weighted', labels=np.unique(pred_grid))\n",
        "accuracy_grid = accuracy_score(target_test, pred_grid)\n",
        "\n",
        "print('Значение F1 = {}, значение precision = {}, значение recall = {}, значение accuracy = {}'.format(round(f_1_grid, 5), \n",
        "                                                                                                       round(precision_grid, 5), \n",
        "                                                                                                       round(recall_grid, 5), \n",
        "                                                                                                       round(accuracy_grid, 5)))"
      ],
      "metadata": {
        "colab": {
          "base_uri": "https://localhost:8080/"
        },
        "id": "13UtO19Jv4kf",
        "outputId": "be1c13c6-bcb7-4edb-bb9c-42872a0acdca"
      },
      "execution_count": null,
      "outputs": [
        {
          "output_type": "stream",
          "name": "stdout",
          "text": [
            "Значение F1 = 0.91182, значение precision = 0.91349, значение recall = 0.93933, значение accuracy = 0.93933\n"
          ]
        }
      ]
    },
    {
      "cell_type": "markdown",
      "source": [
        "## Логистическая регрессия"
      ],
      "metadata": {
        "id": "mgsCiAOGwaFj"
      }
    },
    {
      "cell_type": "code",
      "source": [
        "grid_log_clf = LogisticRegression(random_state=42)\n",
        "grid_log_clf.fit(feat_train, target_train)"
      ],
      "metadata": {
        "colab": {
          "base_uri": "https://localhost:8080/"
        },
        "id": "vUaJjG-7wei2",
        "outputId": "c84d9bde-4ba8-4b4a-8538-9d6f79fc01af"
      },
      "execution_count": null,
      "outputs": [
        {
          "output_type": "stream",
          "name": "stderr",
          "text": [
            "/usr/local/lib/python3.8/dist-packages/sklearn/linear_model/_logistic.py:814: ConvergenceWarning: lbfgs failed to converge (status=1):\n",
            "STOP: TOTAL NO. of ITERATIONS REACHED LIMIT.\n",
            "\n",
            "Increase the number of iterations (max_iter) or scale the data as shown in:\n",
            "    https://scikit-learn.org/stable/modules/preprocessing.html\n",
            "Please also refer to the documentation for alternative solver options:\n",
            "    https://scikit-learn.org/stable/modules/linear_model.html#logistic-regression\n",
            "  n_iter_i = _check_optimize_result(\n"
          ]
        },
        {
          "output_type": "execute_result",
          "data": {
            "text/plain": [
              "LogisticRegression(random_state=42)"
            ]
          },
          "metadata": {},
          "execution_count": 146
        }
      ]
    },
    {
      "cell_type": "code",
      "source": [
        "pred_grid = grid_log_clf.predict(feat_test)\n",
        "f_1_log = f1_score(target_test, pred_grid, average='weighted', labels=np.unique(pred_grid))\n",
        "precision = precision_score(target_test, pred_grid, average='weighted', labels=np.unique(pred_grid))\n",
        "recall = recall_score(target_test, pred_grid, average='weighted', labels=np.unique(pred_grid))\n",
        "accuracy_log = accuracy_score(target_test, pred_grid)\n",
        "print('Значение F1 = {}, значение precision = {}, значение recall = {}, значение accuracy = {}'.format(f_1_log, precision, recall, accuracy_log))"
      ],
      "metadata": {
        "colab": {
          "base_uri": "https://localhost:8080/"
        },
        "id": "eDT6eWGdw4Hw",
        "outputId": "cd69aa9b-a6ce-4378-dbc3-dadb17415e1b"
      },
      "execution_count": null,
      "outputs": [
        {
          "output_type": "stream",
          "name": "stdout",
          "text": [
            "Значение F1 = 0.9687184661957619, значение precision = 0.9393346379647749, значение recall = 1.0, значение accuracy = 0.9393346379647749\n"
          ]
        }
      ]
    },
    {
      "cell_type": "markdown",
      "source": [
        "## Линейная модель SGD"
      ],
      "metadata": {
        "id": "4tu62CNS8P95"
      }
    },
    {
      "cell_type": "code",
      "source": [
        "sgd_clf = SGDClassifier(random_state=42)\n",
        "sgd_clf.fit(feat_train,target_train)"
      ],
      "metadata": {
        "colab": {
          "base_uri": "https://localhost:8080/"
        },
        "id": "fsOxZ0a28S9g",
        "outputId": "dea7fb63-0664-4bc6-aab7-03baa284513b"
      },
      "execution_count": null,
      "outputs": [
        {
          "output_type": "execute_result",
          "data": {
            "text/plain": [
              "SGDClassifier(random_state=42)"
            ]
          },
          "metadata": {},
          "execution_count": 148
        }
      ]
    },
    {
      "cell_type": "code",
      "source": [
        "pred_grid = sgd_clf.predict(feat_test)\n",
        "f_1_log = f1_score(target_test, pred_grid, average='weighted', labels=np.unique(pred_grid))\n",
        "precision = precision_score(target_test, pred_grid, average='weighted', labels=np.unique(pred_grid))\n",
        "recall = recall_score(target_test, pred_grid, average='weighted', labels=np.unique(pred_grid))\n",
        "accuracy_log = accuracy_score(target_test, pred_grid)\n",
        "print('Значение F1 = {}, значение precision = {}, значение recall = {}, значение accuracy = {}'.format(f_1_log, precision, recall, accuracy_log))"
      ],
      "metadata": {
        "colab": {
          "base_uri": "https://localhost:8080/"
        },
        "id": "_1gM5lz-8lM-",
        "outputId": "c01c48f5-d6e6-458e-dc1b-cda56447ef73"
      },
      "execution_count": null,
      "outputs": [
        {
          "output_type": "stream",
          "name": "stdout",
          "text": [
            "Значение F1 = 0.9075008389037532, значение precision = 0.8820693994654474, значение recall = 0.9344422700587084, значение accuracy = 0.9344422700587084\n"
          ]
        }
      ]
    },
    {
      "cell_type": "markdown",
      "source": [
        "# 3. Балансировка классов"
      ],
      "metadata": {
        "id": "vBZFYIujyFjt"
      }
    },
    {
      "cell_type": "code",
      "source": [
        "print(data['stroke'].value_counts())"
      ],
      "metadata": {
        "colab": {
          "base_uri": "https://localhost:8080/"
        },
        "id": "QxGY9sDH-LhT",
        "outputId": "6a9ffb67-df01-4935-c013-1850eb39b4d5"
      },
      "execution_count": null,
      "outputs": [
        {
          "output_type": "stream",
          "name": "stdout",
          "text": [
            "0.0    4857\n",
            "1.0     249\n",
            "Name: stroke, dtype: int64\n"
          ]
        }
      ]
    },
    {
      "cell_type": "code",
      "source": [
        "print('Колличество перенесших инсульт составляет: ', 249/(4857 + 249) * 100, '%', sep='')"
      ],
      "metadata": {
        "colab": {
          "base_uri": "https://localhost:8080/"
        },
        "id": "Tm34p9r0OPNX",
        "outputId": "8c426983-283f-4538-b451-4435a3fea74d"
      },
      "execution_count": null,
      "outputs": [
        {
          "output_type": "stream",
          "name": "stdout",
          "text": [
            "Колличество перенесших инсульт составляет: 4.876615746180963%\n"
          ]
        }
      ]
    },
    {
      "cell_type": "markdown",
      "source": [
        "Только '≈' 5% клиентов перенесли инсульт.\n",
        "Т.о. класс является не сбалонсированным"
      ],
      "metadata": {
        "id": "9fNymOBEQAbC"
      }
    },
    {
      "cell_type": "code",
      "source": [
        "from imblearn.over_sampling import RandomOverSampler\n",
        "\n",
        "a = data['stroke']\n",
        "b = data.drop(['stroke'], axis=1)\n",
        "ros = RandomOverSampler(random_state=42)\n",
        "a_resample, b_resample = ros.fit_resample(b, a)\n",
        "b_resample.value_counts()"
      ],
      "metadata": {
        "colab": {
          "base_uri": "https://localhost:8080/"
        },
        "id": "AxqIBjVZRDHx",
        "outputId": "9c28cb3e-2405-4945-ee08-c2f30470c9cd"
      },
      "execution_count": null,
      "outputs": [
        {
          "output_type": "execute_result",
          "data": {
            "text/plain": [
              "1.0    4857\n",
              "0.0    4857\n",
              "Name: stroke, dtype: int64"
            ]
          },
          "metadata": {},
          "execution_count": 152
        }
      ]
    },
    {
      "cell_type": "markdown",
      "source": [
        "# 4. Прогнозирование после ребалансировки"
      ],
      "metadata": {
        "id": "bQJxGhLDS79r"
      }
    },
    {
      "cell_type": "code",
      "source": [
        "feat_train, feat_test, target_train, target_test = train_test_split(\n",
        "    a_resample, b_resample, test_size=0.2, random_state=42)"
      ],
      "metadata": {
        "id": "8Gouu7YaTAJg"
      },
      "execution_count": null,
      "outputs": []
    },
    {
      "cell_type": "markdown",
      "source": [
        "## Линейная модель SGD"
      ],
      "metadata": {
        "id": "Jz4zymN8VhHC"
      }
    },
    {
      "cell_type": "code",
      "source": [
        "sgd_clf = SGDClassifier(random_state=42)\n",
        "sgd_clf.fit(feat_train,target_train)"
      ],
      "metadata": {
        "colab": {
          "base_uri": "https://localhost:8080/"
        },
        "outputId": "06ffc119-2fe8-4f19-819f-3084e71e3b0d",
        "id": "VspfqDZDVhHI"
      },
      "execution_count": null,
      "outputs": [
        {
          "output_type": "execute_result",
          "data": {
            "text/plain": [
              "SGDClassifier(random_state=42)"
            ]
          },
          "metadata": {},
          "execution_count": 154
        }
      ]
    },
    {
      "cell_type": "code",
      "source": [
        "pred_grid = sgd_clf.predict(feat_test)\n",
        "f_1_log = f1_score(target_test, pred_grid, average='weighted', labels=np.unique(pred_grid))\n",
        "precision = precision_score(target_test, pred_grid, average='weighted', labels=np.unique(pred_grid))\n",
        "recall = recall_score(target_test, pred_grid, average='weighted', labels=np.unique(pred_grid))\n",
        "accuracy_log = accuracy_score(target_test, pred_grid)\n",
        "print('Значение F1 = {}, значение precision = {}, значение recall = {}, значение accuracy = {}'.format(f_1_log, precision, recall, accuracy_log))"
      ],
      "metadata": {
        "colab": {
          "base_uri": "https://localhost:8080/"
        },
        "outputId": "3cfe54c4-4bc8-407c-b5bc-f1d875b59b73",
        "id": "mw6lrIWhVhHJ"
      },
      "execution_count": null,
      "outputs": [
        {
          "output_type": "stream",
          "name": "stdout",
          "text": [
            "Значение F1 = 0.7207726065203168, значение precision = 0.7665101751493005, значение recall = 0.7308286155429747, значение accuracy = 0.7308286155429747\n"
          ]
        }
      ]
    },
    {
      "cell_type": "markdown",
      "source": [
        "## Логистическая регрессия"
      ],
      "metadata": {
        "id": "S01f3pM_V3kw"
      }
    },
    {
      "cell_type": "code",
      "source": [
        "grid_log_clf = LogisticRegression(random_state=42)\n",
        "grid_log_clf.fit(feat_train, target_train)"
      ],
      "metadata": {
        "colab": {
          "base_uri": "https://localhost:8080/"
        },
        "outputId": "3e0c484a-db28-4ff9-fe8a-15622bc89200",
        "id": "jDNlqqqmV3kw"
      },
      "execution_count": null,
      "outputs": [
        {
          "output_type": "stream",
          "name": "stderr",
          "text": [
            "/usr/local/lib/python3.8/dist-packages/sklearn/linear_model/_logistic.py:814: ConvergenceWarning: lbfgs failed to converge (status=1):\n",
            "STOP: TOTAL NO. of ITERATIONS REACHED LIMIT.\n",
            "\n",
            "Increase the number of iterations (max_iter) or scale the data as shown in:\n",
            "    https://scikit-learn.org/stable/modules/preprocessing.html\n",
            "Please also refer to the documentation for alternative solver options:\n",
            "    https://scikit-learn.org/stable/modules/linear_model.html#logistic-regression\n",
            "  n_iter_i = _check_optimize_result(\n"
          ]
        },
        {
          "output_type": "execute_result",
          "data": {
            "text/plain": [
              "LogisticRegression(random_state=42)"
            ]
          },
          "metadata": {},
          "execution_count": 156
        }
      ]
    },
    {
      "cell_type": "code",
      "source": [
        "pred_grid = grid_log_clf.predict(feat_test)\n",
        "f_1_log = f1_score(target_test, pred_grid, average='weighted', labels=np.unique(pred_grid))\n",
        "precision = precision_score(target_test, pred_grid, average='weighted', labels=np.unique(pred_grid))\n",
        "recall = recall_score(target_test, pred_grid, average='weighted', labels=np.unique(pred_grid))\n",
        "accuracy_log = accuracy_score(target_test, pred_grid)\n",
        "print('Значение F1 = {}, значение precision = {}, значение recall = {}, значение accuracy = {}'.format(f_1_log, precision, recall, accuracy_log))"
      ],
      "metadata": {
        "colab": {
          "base_uri": "https://localhost:8080/"
        },
        "outputId": "c11e627a-c1b1-4a6b-b84e-dcbc1cfc21b3",
        "id": "Sh84ug8lV3kw"
      },
      "execution_count": null,
      "outputs": [
        {
          "output_type": "stream",
          "name": "stdout",
          "text": [
            "Значение F1 = 0.7518434807225484, значение precision = 0.7520695697349832, значение recall = 0.7519300051466804, значение accuracy = 0.7519300051466804\n"
          ]
        }
      ]
    },
    {
      "cell_type": "markdown",
      "source": [
        "## AdaBoost"
      ],
      "metadata": {
        "id": "Y3OuMS0WVyD6"
      }
    },
    {
      "cell_type": "code",
      "source": [
        "ada_params = {\"n_estimators\": range(1,25), \"learning_rate\": [0.01, 0.1, 0.5, 1], \n",
        "              \"algorithm\": [\"SAMME\", \"SAMME.R\"]}\n",
        "ada = AdaBoostClassifier(random_state=42)\n",
        "grid_ada_clf = GridSearchCV(ada, ada_params, error_score='raise')\n",
        "grid_ada_clf.fit(feat_train, target_train)"
      ],
      "metadata": {
        "colab": {
          "base_uri": "https://localhost:8080/"
        },
        "outputId": "b0475c46-2261-46a8-b930-f924aaaac294",
        "id": "4DdSjKAoVyEA"
      },
      "execution_count": null,
      "outputs": [
        {
          "output_type": "execute_result",
          "data": {
            "text/plain": [
              "GridSearchCV(error_score='raise', estimator=AdaBoostClassifier(random_state=42),\n",
              "             param_grid={'algorithm': ['SAMME', 'SAMME.R'],\n",
              "                         'learning_rate': [0.01, 0.1, 0.5, 1],\n",
              "                         'n_estimators': range(1, 25)})"
            ]
          },
          "metadata": {},
          "execution_count": 158
        }
      ]
    },
    {
      "cell_type": "code",
      "source": [
        "grid_ada_clf.best_params_"
      ],
      "metadata": {
        "colab": {
          "base_uri": "https://localhost:8080/"
        },
        "outputId": "f2c11193-b012-463b-9aba-2600596e4076",
        "id": "_jHz6wxxVyEB"
      },
      "execution_count": null,
      "outputs": [
        {
          "output_type": "execute_result",
          "data": {
            "text/plain": [
              "{'algorithm': 'SAMME.R', 'learning_rate': 1, 'n_estimators': 21}"
            ]
          },
          "metadata": {},
          "execution_count": 159
        }
      ]
    },
    {
      "cell_type": "code",
      "source": [
        "pred_grid = grid_ada_clf.predict(feat_test)\n",
        "f_1_grid = f1_score(target_test, pred_grid, average='weighted', labels=np.unique(pred_grid))\n",
        "precision_grid = precision_score(target_test, pred_grid, average='weighted', labels=np.unique(pred_grid))\n",
        "recall_grid = recall_score(target_test, pred_grid, average='weighted', labels=np.unique(pred_grid))\n",
        "accuracy_grid = accuracy_score(target_test, pred_grid)\n",
        "\n",
        "print('Значение F1 = {}, значение precision = {}, значение recall = {}, значение accuracy = {}'.format(round(f_1_grid, 5), \n",
        "                                                                                                       round(precision_grid, 5), \n",
        "                                                                                                       round(recall_grid, 5), \n",
        "                                                                                                       round(accuracy_grid, 5)))"
      ],
      "metadata": {
        "colab": {
          "base_uri": "https://localhost:8080/"
        },
        "outputId": "f6ebf143-7a30-40f3-f501-07bf36110c6f",
        "id": "NdTN6-bcVyEB"
      },
      "execution_count": null,
      "outputs": [
        {
          "output_type": "stream",
          "name": "stdout",
          "text": [
            "Значение F1 = 0.7799, значение precision = 0.78429, значение recall = 0.78075, значение accuracy = 0.78075\n"
          ]
        }
      ]
    },
    {
      "cell_type": "markdown",
      "source": [
        "## Random Forest"
      ],
      "metadata": {
        "id": "4aUYJWSZWDG-"
      }
    },
    {
      "cell_type": "code",
      "source": [
        "# forest_params = {\"n_estimators\": 100, \"criterion\": [\"gini\", \"entropy\"], \n",
        "              # \"max_depth\": [2, 4, 6, 8], \"min_samples_split\": [2, 3, 4], 'max_features': [2, 4, 6, 8]}\n",
        "# random_forest = RandomForestClassifier(random_state=42)\n",
        "# grid_forest_clf = GridSearchCV(random_forest, forest_params, error_score='raise')\n",
        "# grid_forest_clf.fit(feat_train, target_train)"
      ],
      "metadata": {
        "id": "DXzM0Ud8WDG_"
      },
      "execution_count": null,
      "outputs": []
    },
    {
      "cell_type": "code",
      "source": [
        "grid_forest_clf.best_params_"
      ],
      "metadata": {
        "colab": {
          "base_uri": "https://localhost:8080/"
        },
        "id": "_gzkhrTiWDG_",
        "outputId": "6581e4b8-6978-4c10-d763-c0217dd30603"
      },
      "execution_count": null,
      "outputs": [
        {
          "output_type": "execute_result",
          "data": {
            "text/plain": [
              "{'criterion': 'entropy',\n",
              " 'max_depth': 8,\n",
              " 'max_features': 4,\n",
              " 'min_samples_split': 2,\n",
              " 'n_estimators': 100}"
            ]
          },
          "metadata": {},
          "execution_count": 162
        }
      ]
    },
    {
      "cell_type": "code",
      "source": [
        "pred_grid = grid_forest_clf.predict(feat_test)\n",
        "f_1_grid = f1_score(target_test, pred_grid, average='weighted', labels=np.unique(pred_grid))\n",
        "precision_grid = precision_score(target_test, pred_grid, average='weighted', labels=np.unique(pred_grid))\n",
        "recall_grid = recall_score(target_test, pred_grid, average='weighted', labels=np.unique(pred_grid))\n",
        "accuracy_grid = accuracy_score(target_test, pred_grid)\n",
        "\n",
        "print('Значение F1 = {}, значение precision = {}, значение recall = {}, значение accuracy = {}'.format(round(f_1_grid, 5), \n",
        "                                                                                                       round(precision_grid, 5), \n",
        "                                                                                                       round(recall_grid, 5), \n",
        "                                                                                                       round(accuracy_grid, 5)))"
      ],
      "metadata": {
        "colab": {
          "base_uri": "https://localhost:8080/"
        },
        "id": "bT2kMuOFWDG_",
        "outputId": "1b8906bf-cb05-4ef2-cea0-091bb7e62507"
      },
      "execution_count": null,
      "outputs": [
        {
          "output_type": "stream",
          "name": "stdout",
          "text": [
            "Значение F1 = 0.42913, значение precision = 0.76277, значение recall = 0.54452, значение accuracy = 0.54452\n"
          ]
        }
      ]
    },
    {
      "cell_type": "markdown",
      "source": [
        "# 5. Сделать визуализацию для мини-исследования о вреде курения с разбивкой по половой принадлежности пациентов"
      ],
      "metadata": {
        "id": "6YO2k_E0oc80"
      }
    },
    {
      "cell_type": "code",
      "source": [
        "import seaborn as sns\n",
        "import matplotlib.pyplot as plt"
      ],
      "metadata": {
        "id": "TnHBG8TgpF2L"
      },
      "execution_count": null,
      "outputs": []
    },
    {
      "cell_type": "code",
      "source": [
        "data.columns"
      ],
      "metadata": {
        "colab": {
          "base_uri": "https://localhost:8080/"
        },
        "id": "KANQnpMjphO4",
        "outputId": "18ba81b4-954d-4f6f-f38b-619fc9ceaac7"
      },
      "execution_count": null,
      "outputs": [
        {
          "output_type": "execute_result",
          "data": {
            "text/plain": [
              "Index(['gender', 'age', 'hypertension', 'heart_disease', 'ever_married',\n",
              "       'work_type', 'Residence_type', 'avg_glucose_level', 'bmi',\n",
              "       'smoking_status', 'stroke'],\n",
              "      dtype='object')"
            ]
          },
          "metadata": {},
          "execution_count": 165
        }
      ]
    },
    {
      "cell_type": "code",
      "source": [
        "plt.figure(figsize=(7, 7))\n",
        "sns.barplot(data=data, x='smoking_status', y='bmi', hue='gender')\n",
        "# , order=data['smoking_status'].set_title('Курение от индекс массы тела')\n",
        "# , annot = True"
      ],
      "metadata": {
        "colab": {
          "base_uri": "https://localhost:8080/",
          "height": 460
        },
        "id": "rf3Ni7nCog7i",
        "outputId": "6056df95-93cc-43bb-e9d3-8d572fff209b"
      },
      "execution_count": null,
      "outputs": [
        {
          "output_type": "execute_result",
          "data": {
            "text/plain": [
              "<matplotlib.axes._subplots.AxesSubplot at 0x7f30858045e0>"
            ]
          },
          "metadata": {},
          "execution_count": 181
        },
        {
          "output_type": "display_data",
          "data": {
            "text/plain": [
              "<Figure size 504x504 with 1 Axes>"
            ],
            "image/png": "[encoded data removed]"
          },
          "metadata": {
            "needs_background": "light"
          }
        }
      ]
    },
    {
      "cell_type": "code",
      "source": [
        "plt.figure(figsize=(7, 7))\n",
        "sns.barplot(data=data, x='smoking_status', y='stroke', hue='gender')"
      ],
      "metadata": {
        "colab": {
          "base_uri": "https://localhost:8080/",
          "height": 460
        },
        "id": "rURRbMf5p7EQ",
        "outputId": "effdf955-1cf8-4626-e7ec-147d5a19fdbd"
      },
      "execution_count": null,
      "outputs": [
        {
          "output_type": "execute_result",
          "data": {
            "text/plain": [
              "<matplotlib.axes._subplots.AxesSubplot at 0x7f308f0871f0>"
            ]
          },
          "metadata": {},
          "execution_count": 171
        },
        {
          "output_type": "display_data",
          "data": {
            "text/plain": [
              "<Figure size 504x504 with 1 Axes>"
            ],
            "image/png": "[encoded data removed]"
          },
          "metadata": {
            "needs_background": "light"
          }
        }
      ]
    },
    {
      "cell_type": "code",
      "source": [
        "plt.figure(figsize=(7, 7))\n",
        "sns.barplot(data=data, x='smoking_status', y='work_type', hue='gender')"
      ],
      "metadata": {
        "colab": {
          "base_uri": "https://localhost:8080/",
          "height": 460
        },
        "id": "MtCfGLvJp-N2",
        "outputId": "16e9cfaf-3479-44cf-8cb3-f5c911e3c482"
      },
      "execution_count": null,
      "outputs": [
        {
          "output_type": "execute_result",
          "data": {
            "text/plain": [
              "<matplotlib.axes._subplots.AxesSubplot at 0x7f30885dc5e0>"
            ]
          },
          "metadata": {},
          "execution_count": 172
        },
        {
          "output_type": "display_data",
          "data": {
            "text/plain": [
              "<Figure size 504x504 with 1 Axes>"
            ],
            "image/png": "[encoded data removed]"
          },
          "metadata": {
            "needs_background": "light"
          }
        }
      ]
    },
    {
      "cell_type": "code",
      "source": [
        "plt.figure(figsize=(7, 7))\n",
        "sns.barplot(data=data, x='smoking_status', y='heart_disease', hue='gender')"
      ],
      "metadata": {
        "colab": {
          "base_uri": "https://localhost:8080/",
          "height": 460
        },
        "id": "VwQ1ggJuqAxF",
        "outputId": "26e7b8c6-a894-4585-a6c9-a13786dae97e"
      },
      "execution_count": null,
      "outputs": [
        {
          "output_type": "execute_result",
          "data": {
            "text/plain": [
              "<matplotlib.axes._subplots.AxesSubplot at 0x7f3087bfaa90>"
            ]
          },
          "metadata": {},
          "execution_count": 173
        },
        {
          "output_type": "display_data",
          "data": {
            "text/plain": [
              "<Figure size 504x504 with 1 Axes>"
            ],
            "image/png": "[encoded data removed]"
          },
          "metadata": {
            "needs_background": "light"
          }
        }
      ]
    }
  ],
  "metadata": {
    "colab": {
      "provenance": [],
      "collapsed_sections": [
        "4DwAi_HSQju7",
        "xJrCCx7WtvL2",
        "S3I1usnFvNOu",
        "mgsCiAOGwaFj",
        "4tu62CNS8P95",
        "vBZFYIujyFjt",
        "Jz4zymN8VhHC",
        "S01f3pM_V3kw",
        "Y3OuMS0WVyD6"
      ],
      "include_colab_link": true
    },
    "kernelspec": {
      "display_name": "Python 3",
      "name": "python3"
    },
    "language_info": {
      "name": "python"
    }
  },
  "nbformat": 4,
  "nbformat_minor": 0
}